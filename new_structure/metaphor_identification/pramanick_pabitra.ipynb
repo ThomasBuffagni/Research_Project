{
 "cells": [
  {
   "cell_type": "code",
   "execution_count": 1,
   "metadata": {},
   "outputs": [
    {
     "name": "stderr",
     "output_type": "stream",
     "text": [
      "C:\\DELL\\Anaconda\\lib\\site-packages\\gensim\\utils.py:1212: UserWarning: detected Windows; aliasing chunkize to chunkize_serial\n",
      "  warnings.warn(\"detected Windows; aliasing chunkize to chunkize_serial\")\n"
     ]
    }
   ],
   "source": [
    "import gensim \n",
    "from gensim.models import Word2Vec \n",
    "\n",
    "import pandas as pd\n",
    "from sklearn.cluster import KMeans\n",
    "from sklearn.metrics import accuracy_score\n",
    "import numpy as np\n",
    "import nltk"
   ]
  },
  {
   "cell_type": "markdown",
   "metadata": {},
   "source": [
    "# Cosign Similarity "
   ]
  },
  {
   "cell_type": "code",
   "execution_count": 34,
   "metadata": {
    "collapsed": true
   },
   "outputs": [],
   "source": [
    "from gensim.models import KeyedVectors\n",
    "model = KeyedVectors.load_word2vec_format('wiki.en.vec')"
   ]
  },
  {
   "cell_type": "code",
   "execution_count": null,
   "metadata": {
    "collapsed": true
   },
   "outputs": [],
   "source": [
    "#creating word2vec model using dataset\n",
    "# data=[]\n",
    "# for j in zip(df.adj,df.noun):\n",
    "#     temp = [j[0],j[1]]\n",
    "#     data.append(temp)\n",
    "# model = gensim.models.Word2Vec(data, min_count = 1,size = 200, window = 5)"
   ]
  },
  {
   "cell_type": "markdown",
   "metadata": {},
   "source": [
    "## Train Dataset "
   ]
  },
  {
   "cell_type": "code",
   "execution_count": 87,
   "metadata": {},
   "outputs": [
    {
     "name": "stdout",
     "output_type": "stream",
     "text": [
      "             0\n",
      "0     0.000000\n",
      "1     0.000000\n",
      "2     0.000000\n",
      "3     0.000000\n",
      "4     0.000000\n",
      "5     0.000000\n",
      "6     0.000000\n",
      "7     0.000000\n",
      "8     0.000000\n",
      "9     0.000000\n",
      "10    0.000000\n",
      "11    0.000000\n",
      "12    0.000000\n",
      "13    0.000000\n",
      "14    0.000000\n",
      "15    0.000000\n",
      "16    0.000000\n",
      "17    0.000000\n",
      "18    0.000000\n",
      "19    0.000000\n",
      "20    0.000000\n",
      "21    0.000000\n",
      "22    0.000000\n",
      "23    0.000000\n",
      "24    0.000000\n",
      "25    0.000000\n",
      "26    0.000000\n",
      "27    0.000000\n",
      "28    0.000000\n",
      "29    0.000000\n",
      "...        ...\n",
      "1738  0.000000\n",
      "1739  0.023898\n",
      "1740  0.000000\n",
      "1741  0.000000\n",
      "1742  0.000000\n",
      "1743  0.000000\n",
      "1744  0.000000\n",
      "1745  0.000000\n",
      "1746  0.000000\n",
      "1747  0.000000\n",
      "1748  0.000000\n",
      "1749  0.000000\n",
      "1750  0.000000\n",
      "1751  0.056260\n",
      "1752  0.000000\n",
      "1753  0.000000\n",
      "1754  0.094040\n",
      "1755  0.000000\n",
      "1756  0.000000\n",
      "1757  0.000000\n",
      "1758  0.000000\n",
      "1759  0.000000\n",
      "1760  0.000000\n",
      "1761  0.000000\n",
      "1762  0.000000\n",
      "1763  0.000000\n",
      "1764  0.000000\n",
      "1765  0.000000\n",
      "1766  0.000000\n",
      "1767  0.000000\n",
      "\n",
      "[1768 rows x 1 columns]\n",
      "Accuracy is:  0.502262443439\n"
     ]
    },
    {
     "name": "stderr",
     "output_type": "stream",
     "text": [
      "C:\\DELL\\Anaconda\\lib\\site-packages\\ipykernel_launcher.py:13: DeprecationWarning: Call to deprecated `similarity` (Method will be removed in 4.0.0, use self.wv.similarity() instead).\n",
      "  del sys.path[0]\n"
     ]
    }
   ],
   "source": [
    "MET_AN_EN = pd.read_table('training_adj_noun_met_en.txt', delim_whitespace=True, names=('adj', 'noun'))\n",
    "MET_AN_EN['class'] = 1\n",
    "LIT_AN_EN = pd.read_table('training_adj_noun_nonmet_en.txt', delim_whitespace=True, names=('adj', 'noun'))\n",
    "LIT_AN_EN['class'] = 0\n",
    "\n",
    "df = pd.concat([LIT_AN_EN,MET_AN_EN])\n",
    "df = pd.DataFrame(df)\n",
    "\n",
    "an_vectorized = []\n",
    "\n",
    "for j in zip(df.adj,df.noun):\n",
    "    try:\n",
    "        an_vectorized.append(model.similarity(j[0],j[1]))\n",
    "    except:\n",
    "        an_vectorized.append(0)\n",
    "            \n",
    "an_vectorized = pd.DataFrame(an_vectorized)\n",
    "print(an_vectorized)\n",
    "kmeans_clustering = KMeans( n_clusters = 2, random_state=43 )\n",
    "idx = kmeans_clustering.fit_predict( an_vectorized )\n",
    "print('Accuracy is: ',accuracy_score(idx,np.asarray(df['class'])))"
   ]
  },
  {
   "cell_type": "markdown",
   "metadata": {},
   "source": [
    "## Test Dataset "
   ]
  },
  {
   "cell_type": "code",
   "execution_count": 81,
   "metadata": {},
   "outputs": [
    {
     "name": "stdout",
     "output_type": "stream",
     "text": [
      "Accuracy is:  0.555\n"
     ]
    },
    {
     "name": "stderr",
     "output_type": "stream",
     "text": [
      "C:\\DELL\\Anaconda\\lib\\site-packages\\ipykernel_launcher.py:30: DeprecationWarning: Call to deprecated `similarity` (Method will be removed in 4.0.0, use self.wv.similarity() instead).\n"
     ]
    }
   ],
   "source": [
    "fields = ['adj', 'noun']\n",
    "MET_AN_EN_TEST=pd.read_excel('Datasets_ACL2014.xlsx',sheetname='MET_AN_EN', usecols=fields)\n",
    "MET_AN_EN_TEST['class'] = 1\n",
    "LIT_AN_EN_TEST=pd.read_excel('Datasets_ACL2014.xlsx',sheetname='LIT_AN_EN', usecols=fields)\n",
    "LIT_AN_EN_TEST['class'] = 0\n",
    "\n",
    "MET_AN_EN_TRAIN = pd.read_table('training_adj_noun_met_en.txt', delim_whitespace=True, names=('adj', 'noun'))\n",
    "MET_AN_EN_TRAIN['class'] = 1\n",
    "LIT_AN_EN_TRAIN = pd.read_table('training_adj_noun_nonmet_en.txt', delim_whitespace=True, names=('adj', 'noun'))\n",
    "LIT_AN_EN_TRAIN['class'] = 0\n",
    "\n",
    "\n",
    "df = pd.concat([LIT_AN_EN_TEST,MET_AN_EN_TEST])\n",
    "df = pd.DataFrame(df)\n",
    "\n",
    "\n",
    "# df = pd.concat([LIT_AN_EN_TRAIN,MET_AN_EN_TRAIN])\n",
    "# df = pd.DataFrame(df)\n",
    "\n",
    "#creating word2vec model using dataset\n",
    "data=[]\n",
    "for j in zip(df.adj,df.noun):\n",
    "    temp = [j[0],j[1]]\n",
    "    data.append(temp)\n",
    "model = gensim.models.Word2Vec(data, min_count = 1,size = 200, window = 5) \n",
    "\n",
    "an_vectorized = []\n",
    "\n",
    "for j in zip(df.adj,df.noun):\n",
    "    an_vectorized.append(model.similarity(j[0],j[1]))\n",
    "    \n",
    "an_vectorized = pd.DataFrame(an_vectorized)\n",
    "kmeans_clustering = KMeans( n_clusters = 2, random_state=43 )\n",
    "idx = kmeans_clustering.fit_predict( an_vectorized )\n",
    "print('Accuracy is: ',accuracy_score(idx,np.asarray(df['class'])))"
   ]
  },
  {
   "cell_type": "markdown",
   "metadata": {},
   "source": [
    "# Edit Distane"
   ]
  },
  {
   "cell_type": "markdown",
   "metadata": {},
   "source": [
    "## Train Dataset"
   ]
  },
  {
   "cell_type": "code",
   "execution_count": 143,
   "metadata": {},
   "outputs": [
    {
     "name": "stdout",
     "output_type": "stream",
     "text": [
      "Accuracy is:  0.574660633484\n"
     ]
    }
   ],
   "source": [
    "MET_AN_EN = pd.read_table('training_adj_noun_met_en.txt', delim_whitespace=True, names=('adj', 'noun'))\n",
    "MET_AN_EN['class'] = 1\n",
    "LIT_AN_EN = pd.read_table('training_adj_noun_nonmet_en.txt', delim_whitespace=True, names=('adj', 'noun'))\n",
    "LIT_AN_EN['class'] = 0\n",
    "\n",
    "df = pd.concat([LIT_AN_EN,MET_AN_EN])\n",
    "df = pd.DataFrame(df)\n",
    "l=[]\n",
    "an_vectorized = []\n",
    "for j in zip(df.adj,df.noun):\n",
    "    an_vectorized.append(nltk.edit_distance(j[0],j[1])/10)\n",
    "    #an_vectorized.append(list(l))\n",
    "# an_vectorized = np.asarray(an_vectorized)    \n",
    "\n",
    "an_vectorized = pd.DataFrame(an_vectorized)\n",
    "kmeans_clustering = KMeans( n_clusters = 2, random_state=45)\n",
    "idx = kmeans_clustering.fit_predict( an_vectorized )\n",
    "print('Accuracy is: ',accuracy_score(idx,np.asarray(df['class'])))"
   ]
  },
  {
   "cell_type": "markdown",
   "metadata": {},
   "source": [
    "## Test Dataset "
   ]
  },
  {
   "cell_type": "code",
   "execution_count": 69,
   "metadata": {},
   "outputs": [
    {
     "name": "stdout",
     "output_type": "stream",
     "text": [
      "Accuracy is:  0.585\n"
     ]
    }
   ],
   "source": [
    "fields = ['adj', 'noun']\n",
    "MET_AN_EN_TEST=pd.read_excel('Datasets_ACL2014.xlsx',sheetname='MET_AN_EN', usecols=fields)\n",
    "MET_AN_EN_TEST['class'] = 1\n",
    "LIT_AN_EN_TEST=pd.read_excel('Datasets_ACL2014.xlsx',sheetname='LIT_AN_EN', usecols=fields)\n",
    "LIT_AN_EN_TEST['class'] = 0\n",
    "\n",
    "df = pd.concat([LIT_AN_EN_TEST,MET_AN_EN_TEST])\n",
    "df = pd.DataFrame(df)\n",
    "# s1=[]\n",
    "an_vectorized1 = []\n",
    "an_vectorized =[]\n",
    "for j in zip(df.adj,df.noun):\n",
    "#     s1.append(nltk.edit_distance(j[0],j[1])/10)\n",
    "#     an_vectorized.append(list(s1))\n",
    "    an_vectorized.append(nltk.edit_distance(j[0],j[1])/10)\n",
    "    #an_vectorized.append(( ar_Adj + ar_Noun+ np.sign(ar_Adj - ar_Noun))/10)\n",
    "# an_vectorized1_shape = np.reshape(an_vectorized1)\n",
    "# an_vectorized = np.asarray(an_vectorized1_shape)    \n",
    "    \n",
    "an_vectorized = pd.DataFrame(an_vectorized)\n",
    "kmeans_clustering = KMeans( n_clusters = 2, random_state=0 )\n",
    "idx = kmeans_clustering.fit_predict( an_vectorized )\n",
    "print('Accuracy is: ',accuracy_score(idx,np.asarray(df['class'])))"
   ]
  },
  {
   "cell_type": "markdown",
   "metadata": {},
   "source": [
    "# Abstractness Ratings"
   ]
  },
  {
   "cell_type": "code",
   "execution_count": 2,
   "metadata": {},
   "outputs": [
    {
     "name": "stderr",
     "output_type": "stream",
     "text": [
      "b'Skipping line 149: expected 1 fields, saw 2\\nSkipping line 175: expected 1 fields, saw 2\\nSkipping line 226: expected 1 fields, saw 2\\nSkipping line 2640: expected 1 fields, saw 3\\nSkipping line 2829: expected 1 fields, saw 2\\nSkipping line 5179: expected 1 fields, saw 2\\nSkipping line 5523: expected 1 fields, saw 3\\nSkipping line 9713: expected 1 fields, saw 2\\nSkipping line 11695: expected 1 fields, saw 5\\nSkipping line 12882: expected 1 fields, saw 3\\nSkipping line 15183: expected 1 fields, saw 2\\nSkipping line 21042: expected 1 fields, saw 2\\nSkipping line 24303: expected 1 fields, saw 2\\nSkipping line 24569: expected 1 fields, saw 2\\nSkipping line 24711: expected 1 fields, saw 2\\nSkipping line 28451: expected 1 fields, saw 5\\nSkipping line 28824: expected 1 fields, saw 3\\nSkipping line 29053: expected 1 fields, saw 2\\nSkipping line 31521: expected 1 fields, saw 2\\nSkipping line 33845: expected 1 fields, saw 3\\nSkipping line 34685: expected 1 fields, saw 2\\nSkipping line 38136: expected 1 fields, saw 2\\nSkipping line 38649: expected 1 fields, saw 2\\nSkipping line 39401: expected 1 fields, saw 3\\nSkipping line 39771: expected 1 fields, saw 4\\nSkipping line 52611: expected 1 fields, saw 9\\nSkipping line 52765: expected 1 fields, saw 3\\nSkipping line 53617: expected 1 fields, saw 3\\nSkipping line 54923: expected 1 fields, saw 9\\nSkipping line 55016: expected 1 fields, saw 3\\nSkipping line 60805: expected 1 fields, saw 7\\nSkipping line 70455: expected 1 fields, saw 7\\nSkipping line 73843: expected 1 fields, saw 3\\nSkipping line 74299: expected 1 fields, saw 2\\nSkipping line 81526: expected 1 fields, saw 2\\nSkipping line 82563: expected 1 fields, saw 3\\nSkipping line 82848: expected 1 fields, saw 3\\nSkipping line 84150: expected 1 fields, saw 2\\nSkipping line 84723: expected 1 fields, saw 3\\nSkipping line 87234: expected 1 fields, saw 2\\nSkipping line 88577: expected 1 fields, saw 3\\nSkipping line 88886: expected 1 fields, saw 5\\nSkipping line 89077: expected 1 fields, saw 2\\nSkipping line 90102: expected 1 fields, saw 2\\nSkipping line 90750: expected 1 fields, saw 2\\nSkipping line 95796: expected 1 fields, saw 3\\nSkipping line 99802: expected 1 fields, saw 3\\nSkipping line 105329: expected 1 fields, saw 2\\nSkipping line 105929: expected 1 fields, saw 3\\nSkipping line 109065: expected 1 fields, saw 2\\nSkipping line 109457: expected 1 fields, saw 2\\nSkipping line 110418: expected 1 fields, saw 2\\nSkipping line 111182: expected 1 fields, saw 5\\nSkipping line 111449: expected 1 fields, saw 2\\nSkipping line 111685: expected 1 fields, saw 5\\nSkipping line 115076: expected 1 fields, saw 2\\nSkipping line 115462: expected 1 fields, saw 3\\nSkipping line 115529: expected 1 fields, saw 2\\nSkipping line 116456: expected 1 fields, saw 3\\nSkipping line 117700: expected 1 fields, saw 5\\nSkipping line 118412: expected 1 fields, saw 4\\nSkipping line 119712: expected 1 fields, saw 2\\nSkipping line 121889: expected 1 fields, saw 5\\nSkipping line 131069: expected 1 fields, saw 3\\nSkipping line 132822: expected 1 fields, saw 3\\nSkipping line 139984: expected 1 fields, saw 4\\nSkipping line 141520: expected 1 fields, saw 3\\nSkipping line 145231: expected 1 fields, saw 3\\nSkipping line 148703: expected 1 fields, saw 5\\nSkipping line 149764: expected 1 fields, saw 5\\nSkipping line 152525: expected 1 fields, saw 2\\nSkipping line 152897: expected 1 fields, saw 7\\nSkipping line 154722: expected 1 fields, saw 2\\nSkipping line 155100: expected 1 fields, saw 5\\nSkipping line 155706: expected 1 fields, saw 9\\nSkipping line 156977: expected 1 fields, saw 3\\nSkipping line 157490: expected 1 fields, saw 5\\nSkipping line 157587: expected 1 fields, saw 2\\nSkipping line 158203: expected 1 fields, saw 3\\nSkipping line 158831: expected 1 fields, saw 5\\nSkipping line 159218: expected 1 fields, saw 2\\nSkipping line 161934: expected 1 fields, saw 2\\nSkipping line 162577: expected 1 fields, saw 3\\nSkipping line 163451: expected 1 fields, saw 2\\nSkipping line 164137: expected 1 fields, saw 2\\nSkipping line 164516: expected 1 fields, saw 2\\nSkipping line 165008: expected 1 fields, saw 3\\nSkipping line 170521: expected 1 fields, saw 3\\nSkipping line 170655: expected 1 fields, saw 2\\nSkipping line 171904: expected 1 fields, saw 2\\nSkipping line 172179: expected 1 fields, saw 3\\nSkipping line 175673: expected 1 fields, saw 2\\nSkipping line 175684: expected 1 fields, saw 5\\nSkipping line 175812: expected 1 fields, saw 2\\nSkipping line 179260: expected 1 fields, saw 3\\nSkipping line 180012: expected 1 fields, saw 2\\nSkipping line 182366: expected 1 fields, saw 2\\nSkipping line 184268: expected 1 fields, saw 2\\nSkipping line 185164: expected 1 fields, saw 3\\nSkipping line 185192: expected 1 fields, saw 5\\nSkipping line 186684: expected 1 fields, saw 2\\nSkipping line 187038: expected 1 fields, saw 9\\nSkipping line 187222: expected 1 fields, saw 3\\nSkipping line 187718: expected 1 fields, saw 2\\nSkipping line 189728: expected 1 fields, saw 3\\nSkipping line 191660: expected 1 fields, saw 2\\nSkipping line 194489: expected 1 fields, saw 2\\nSkipping line 194505: expected 1 fields, saw 3\\nSkipping line 195557: expected 1 fields, saw 2\\nSkipping line 195829: expected 1 fields, saw 4\\nSkipping line 196992: expected 1 fields, saw 3\\nSkipping line 201377: expected 1 fields, saw 2\\nSkipping line 201544: expected 1 fields, saw 2\\nSkipping line 201760: expected 1 fields, saw 2\\nSkipping line 202203: expected 1 fields, saw 2\\nSkipping line 202632: expected 1 fields, saw 2\\nSkipping line 207174: expected 1 fields, saw 3\\nSkipping line 207320: expected 1 fields, saw 4\\nSkipping line 207471: expected 1 fields, saw 3\\nSkipping line 207888: expected 1 fields, saw 3\\nSkipping line 211195: expected 1 fields, saw 2\\nSkipping line 212430: expected 1 fields, saw 2\\nSkipping line 215423: expected 1 fields, saw 7\\nSkipping line 218259: expected 1 fields, saw 4\\nSkipping line 218662: expected 1 fields, saw 2\\nSkipping line 219636: expected 1 fields, saw 3\\nSkipping line 220111: expected 1 fields, saw 3\\nSkipping line 220732: expected 1 fields, saw 2\\nSkipping line 221301: expected 1 fields, saw 3\\nSkipping line 221925: expected 1 fields, saw 5\\nSkipping line 225647: expected 1 fields, saw 2\\nSkipping line 226049: expected 1 fields, saw 2\\nSkipping line 237774: expected 1 fields, saw 4\\nSkipping line 239198: expected 1 fields, saw 3\\nSkipping line 240562: expected 1 fields, saw 2\\nSkipping line 243011: expected 1 fields, saw 7\\nSkipping line 243344: expected 1 fields, saw 3\\nSkipping line 244777: expected 1 fields, saw 3\\nSkipping line 248853: expected 1 fields, saw 2\\nSkipping line 249308: expected 1 fields, saw 3\\nSkipping line 251527: expected 1 fields, saw 2\\nSkipping line 251704: expected 1 fields, saw 2\\nSkipping line 254641: expected 1 fields, saw 2\\nSkipping line 255566: expected 1 fields, saw 2\\nSkipping line 255765: expected 1 fields, saw 3\\nSkipping line 256638: expected 1 fields, saw 2\\nSkipping line 258576: expected 1 fields, saw 2\\nSkipping line 260795: expected 1 fields, saw 2\\nSkipping line 261614: expected 1 fields, saw 2\\nSkipping line 262431: expected 1 fields, saw 3\\nSkipping line 262964: expected 1 fields, saw 2\\nSkipping line 263022: expected 1 fields, saw 2\\nSkipping line 271043: expected 1 fields, saw 5\\nSkipping line 271958: expected 1 fields, saw 2\\nSkipping line 273212: expected 1 fields, saw 2\\nSkipping line 274254: expected 1 fields, saw 2\\nSkipping line 279411: expected 1 fields, saw 2\\nSkipping line 280038: expected 1 fields, saw 3\\nSkipping line 282230: expected 1 fields, saw 2\\nSkipping line 283026: expected 1 fields, saw 5\\nSkipping line 286010: expected 1 fields, saw 5\\nSkipping line 286570: expected 1 fields, saw 3\\nSkipping line 288021: expected 1 fields, saw 3\\nSkipping line 289539: expected 1 fields, saw 2\\nSkipping line 293281: expected 1 fields, saw 5\\nSkipping line 297830: expected 1 fields, saw 2\\nSkipping line 300871: expected 1 fields, saw 2\\nSkipping line 300891: expected 1 fields, saw 3\\nSkipping line 301810: expected 1 fields, saw 2\\nSkipping line 302220: expected 1 fields, saw 2\\nSkipping line 303159: expected 1 fields, saw 2\\nSkipping line 305062: expected 1 fields, saw 2\\nSkipping line 307587: expected 1 fields, saw 3\\nSkipping line 309899: expected 1 fields, saw 5\\nSkipping line 311951: expected 1 fields, saw 3\\nSkipping line 314677: expected 1 fields, saw 3\\nSkipping line 315790: expected 1 fields, saw 3\\nSkipping line 320695: expected 1 fields, saw 3\\nSkipping line 320711: expected 1 fields, saw 2\\nSkipping line 323229: expected 1 fields, saw 3\\nSkipping line 323380: expected 1 fields, saw 2\\nSkipping line 324524: expected 1 fields, saw 7\\nSkipping line 325456: expected 1 fields, saw 3\\nSkipping line 327429: expected 1 fields, saw 2\\nSkipping line 329207: expected 1 fields, saw 3\\nSkipping line 329759: expected 1 fields, saw 2\\nSkipping line 331780: expected 1 fields, saw 4\\nSkipping line 332092: expected 1 fields, saw 5\\nSkipping line 335250: expected 1 fields, saw 5\\nSkipping line 337686: expected 1 fields, saw 5\\nSkipping line 338122: expected 1 fields, saw 3\\nSkipping line 338395: expected 1 fields, saw 2\\nSkipping line 344031: expected 1 fields, saw 3\\nSkipping line 344195: expected 1 fields, saw 2\\nSkipping line 347556: expected 1 fields, saw 2\\nSkipping line 348239: expected 1 fields, saw 2\\nSkipping line 351175: expected 1 fields, saw 3\\nSkipping line 351218: expected 1 fields, saw 2\\nSkipping line 352834: expected 1 fields, saw 3\\nSkipping line 352857: expected 1 fields, saw 5\\nSkipping line 353559: expected 1 fields, saw 2\\nSkipping line 356942: expected 1 fields, saw 5\\nSkipping line 359697: expected 1 fields, saw 3\\nSkipping line 361816: expected 1 fields, saw 2\\nSkipping line 362863: expected 1 fields, saw 3\\nSkipping line 363521: expected 1 fields, saw 3\\nSkipping line 365872: expected 1 fields, saw 5\\nSkipping line 367387: expected 1 fields, saw 5\\nSkipping line 367588: expected 1 fields, saw 2\\nSkipping line 369260: expected 1 fields, saw 3\\nSkipping line 370285: expected 1 fields, saw 5\\nSkipping line 372285: expected 1 fields, saw 2\\nSkipping line 374150: expected 1 fields, saw 5\\nSkipping line 374224: expected 1 fields, saw 2\\nSkipping line 375934: expected 1 fields, saw 3\\nSkipping line 376554: expected 1 fields, saw 3\\nSkipping line 378613: expected 1 fields, saw 3\\nSkipping line 378937: expected 1 fields, saw 3\\nSkipping line 380920: expected 1 fields, saw 3\\nSkipping line 381557: expected 1 fields, saw 5\\nSkipping line 382539: expected 1 fields, saw 5\\nSkipping line 383946: expected 1 fields, saw 2\\nSkipping line 386275: expected 1 fields, saw 3\\nSkipping line 386278: expected 1 fields, saw 5\\nSkipping line 388091: expected 1 fields, saw 3\\nSkipping line 388337: expected 1 fields, saw 3\\nSkipping line 388452: expected 1 fields, saw 2\\nSkipping line 389468: expected 1 fields, saw 2\\nSkipping line 389824: expected 1 fields, saw 3\\nSkipping line 390057: expected 1 fields, saw 2\\nSkipping line 391159: expected 1 fields, saw 5\\nSkipping line 394645: expected 1 fields, saw 2\\nSkipping line 396652: expected 1 fields, saw 2\\nSkipping line 397746: expected 1 fields, saw 2\\nSkipping line 398763: expected 1 fields, saw 5\\nSkipping line 399063: expected 1 fields, saw 2\\nSkipping line 400786: expected 1 fields, saw 2\\nSkipping line 400857: expected 1 fields, saw 3\\nSkipping line 401719: expected 1 fields, saw 2\\nSkipping line 406259: expected 1 fields, saw 3\\nSkipping line 406987: expected 1 fields, saw 2\\nSkipping line 407224: expected 1 fields, saw 5\\nSkipping line 407875: expected 1 fields, saw 5\\nSkipping line 409461: expected 1 fields, saw 3\\nSkipping line 410034: expected 1 fields, saw 2\\nSkipping line 410895: expected 1 fields, saw 2\\nSkipping line 410902: expected 1 fields, saw 3\\nSkipping line 411107: expected 1 fields, saw 9\\nSkipping line 413185: expected 1 fields, saw 5\\nSkipping line 413717: expected 1 fields, saw 5\\nSkipping line 415137: expected 1 fields, saw 2\\nSkipping line 416459: expected 1 fields, saw 3\\nSkipping line 416730: expected 1 fields, saw 2\\nSkipping line 418450: expected 1 fields, saw 3\\nSkipping line 418646: expected 1 fields, saw 4\\nSkipping line 421003: expected 1 fields, saw 2\\nSkipping line 421105: expected 1 fields, saw 2\\nSkipping line 421484: expected 1 fields, saw 2\\nSkipping line 421699: expected 1 fields, saw 3\\nSkipping line 422017: expected 1 fields, saw 3\\nSkipping line 422045: expected 1 fields, saw 2\\nSkipping line 422408: expected 1 fields, saw 2\\nSkipping line 423004: expected 1 fields, saw 3\\nSkipping line 425566: expected 1 fields, saw 2\\nSkipping line 426948: expected 1 fields, saw 3\\nSkipping line 427540: expected 1 fields, saw 2\\nSkipping line 427863: expected 1 fields, saw 3\\nSkipping line 428501: expected 1 fields, saw 5\\nSkipping line 429431: expected 1 fields, saw 2\\nSkipping line 430153: expected 1 fields, saw 4\\nSkipping line 433818: expected 1 fields, saw 5\\nSkipping line 435954: expected 1 fields, saw 3\\nSkipping line 444303: expected 1 fields, saw 5\\nSkipping line 445195: expected 1 fields, saw 2\\nSkipping line 445711: expected 1 fields, saw 3\\nSkipping line 446270: expected 1 fields, saw 2\\nSkipping line 447132: expected 1 fields, saw 3\\nSkipping line 448795: expected 1 fields, saw 2\\nSkipping line 450677: expected 1 fields, saw 5\\nSkipping line 451554: expected 1 fields, saw 2\\nSkipping line 451723: expected 1 fields, saw 3\\nSkipping line 452247: expected 1 fields, saw 5\\nSkipping line 452261: expected 1 fields, saw 2\\nSkipping line 453628: expected 1 fields, saw 3\\nSkipping line 455802: expected 1 fields, saw 3\\nSkipping line 456927: expected 1 fields, saw 2\\nSkipping line 458344: expected 1 fields, saw 3\\nSkipping line 458482: expected 1 fields, saw 2\\nSkipping line 461121: expected 1 fields, saw 3\\nSkipping line 464709: expected 1 fields, saw 3\\nSkipping line 467579: expected 1 fields, saw 5\\nSkipping line 467846: expected 1 fields, saw 5\\nSkipping line 468106: expected 1 fields, saw 5\\nSkipping line 469582: expected 1 fields, saw 2\\nSkipping line 471374: expected 1 fields, saw 5\\nSkipping line 471721: expected 1 fields, saw 2\\nSkipping line 471873: expected 1 fields, saw 5\\nSkipping line 472036: expected 1 fields, saw 4\\nSkipping line 472740: expected 1 fields, saw 5\\nSkipping line 474038: expected 1 fields, saw 5\\nSkipping line 474231: expected 1 fields, saw 4\\nSkipping line 474590: expected 1 fields, saw 3\\nSkipping line 474733: expected 1 fields, saw 2\\nSkipping line 474855: expected 1 fields, saw 5\\nSkipping line 475371: expected 1 fields, saw 9\\nSkipping line 476743: expected 1 fields, saw 4\\nSkipping line 477510: expected 1 fields, saw 5\\nSkipping line 477532: expected 1 fields, saw 2\\nSkipping line 478978: expected 1 fields, saw 2\\nSkipping line 482271: expected 1 fields, saw 2\\nSkipping line 483084: expected 1 fields, saw 2\\nSkipping line 483310: expected 1 fields, saw 5\\nSkipping line 483851: expected 1 fields, saw 5\\nSkipping line 483938: expected 1 fields, saw 2\\nSkipping line 485151: expected 1 fields, saw 2\\nSkipping line 486386: expected 1 fields, saw 3\\nSkipping line 490715: expected 1 fields, saw 2\\nSkipping line 494451: expected 1 fields, saw 5\\nSkipping line 495791: expected 1 fields, saw 5\\nSkipping line 497881: expected 1 fields, saw 3\\nSkipping line 501003: expected 1 fields, saw 3\\nSkipping line 502480: expected 1 fields, saw 2\\nSkipping line 503927: expected 1 fields, saw 3\\nSkipping line 508147: expected 1 fields, saw 2\\nSkipping line 509622: expected 1 fields, saw 4\\nSkipping line 511059: expected 1 fields, saw 2\\nSkipping line 514407: expected 1 fields, saw 3\\nSkipping line 515956: expected 1 fields, saw 3\\nSkipping line 516311: expected 1 fields, saw 2\\nSkipping line 516532: expected 1 fields, saw 2\\nSkipping line 516902: expected 1 fields, saw 5\\nSkipping line 517139: expected 1 fields, saw 2\\nSkipping line 518410: expected 1 fields, saw 2\\nSkipping line 519107: expected 1 fields, saw 2\\nSkipping line 520005: expected 1 fields, saw 5\\nSkipping line 520345: expected 1 fields, saw 2\\nSkipping line 521555: expected 1 fields, saw 3\\nSkipping line 524174: expected 1 fields, saw 5\\n'\n",
      "b'Skipping line 524756: expected 1 fields, saw 2\\nSkipping line 526119: expected 1 fields, saw 2\\nSkipping line 526456: expected 1 fields, saw 2\\nSkipping line 526651: expected 1 fields, saw 2\\nSkipping line 528542: expected 1 fields, saw 5\\nSkipping line 528824: expected 1 fields, saw 2\\nSkipping line 529627: expected 1 fields, saw 4\\nSkipping line 530045: expected 1 fields, saw 2\\nSkipping line 531570: expected 1 fields, saw 5\\nSkipping line 532274: expected 1 fields, saw 2\\nSkipping line 533391: expected 1 fields, saw 5\\nSkipping line 534030: expected 1 fields, saw 2\\nSkipping line 535319: expected 1 fields, saw 3\\nSkipping line 535423: expected 1 fields, saw 3\\nSkipping line 536010: expected 1 fields, saw 5\\nSkipping line 536862: expected 1 fields, saw 2\\nSkipping line 538462: expected 1 fields, saw 2\\nSkipping line 539156: expected 1 fields, saw 5\\nSkipping line 539295: expected 1 fields, saw 5\\nSkipping line 540640: expected 1 fields, saw 3\\nSkipping line 541344: expected 1 fields, saw 5\\nSkipping line 543035: expected 1 fields, saw 5\\nSkipping line 545815: expected 1 fields, saw 2\\nSkipping line 546268: expected 1 fields, saw 2\\nSkipping line 546272: expected 1 fields, saw 2\\nSkipping line 548490: expected 1 fields, saw 5\\nSkipping line 550689: expected 1 fields, saw 2\\nSkipping line 551222: expected 1 fields, saw 3\\nSkipping line 551354: expected 1 fields, saw 3\\nSkipping line 552005: expected 1 fields, saw 2\\nSkipping line 553629: expected 1 fields, saw 2\\nSkipping line 553937: expected 1 fields, saw 2\\nSkipping line 554622: expected 1 fields, saw 3\\nSkipping line 555724: expected 1 fields, saw 5\\nSkipping line 556626: expected 1 fields, saw 2\\nSkipping line 558002: expected 1 fields, saw 2\\nSkipping line 559091: expected 1 fields, saw 5\\nSkipping line 559489: expected 1 fields, saw 3\\nSkipping line 560298: expected 1 fields, saw 2\\nSkipping line 562339: expected 1 fields, saw 5\\nSkipping line 563340: expected 1 fields, saw 5\\nSkipping line 565393: expected 1 fields, saw 3\\nSkipping line 566540: expected 1 fields, saw 5\\nSkipping line 567539: expected 1 fields, saw 3\\nSkipping line 567798: expected 1 fields, saw 2\\nSkipping line 569195: expected 1 fields, saw 2\\nSkipping line 570231: expected 1 fields, saw 5\\nSkipping line 570622: expected 1 fields, saw 2\\nSkipping line 570988: expected 1 fields, saw 2\\nSkipping line 571804: expected 1 fields, saw 2\\nSkipping line 572356: expected 1 fields, saw 3\\nSkipping line 573218: expected 1 fields, saw 3\\nSkipping line 576398: expected 1 fields, saw 3\\nSkipping line 576865: expected 1 fields, saw 2\\nSkipping line 578114: expected 1 fields, saw 5\\nSkipping line 579016: expected 1 fields, saw 5\\nSkipping line 579035: expected 1 fields, saw 2\\nSkipping line 579191: expected 1 fields, saw 3\\nSkipping line 582003: expected 1 fields, saw 3\\nSkipping line 582495: expected 1 fields, saw 2\\nSkipping line 582876: expected 1 fields, saw 2\\nSkipping line 583819: expected 1 fields, saw 2\\nSkipping line 583859: expected 1 fields, saw 2\\nSkipping line 584575: expected 1 fields, saw 2\\nSkipping line 585275: expected 1 fields, saw 5\\nSkipping line 588017: expected 1 fields, saw 2\\nSkipping line 588473: expected 1 fields, saw 5\\nSkipping line 591137: expected 1 fields, saw 2\\nSkipping line 591739: expected 1 fields, saw 3\\nSkipping line 592401: expected 1 fields, saw 4\\nSkipping line 592490: expected 1 fields, saw 3\\nSkipping line 593406: expected 1 fields, saw 5\\nSkipping line 595494: expected 1 fields, saw 2\\nSkipping line 596716: expected 1 fields, saw 2\\nSkipping line 596883: expected 1 fields, saw 3\\nSkipping line 598378: expected 1 fields, saw 2\\nSkipping line 598847: expected 1 fields, saw 2\\nSkipping line 600301: expected 1 fields, saw 2\\nSkipping line 601051: expected 1 fields, saw 2\\nSkipping line 603982: expected 1 fields, saw 3\\nSkipping line 604844: expected 1 fields, saw 3\\nSkipping line 605192: expected 1 fields, saw 5\\nSkipping line 605276: expected 1 fields, saw 2\\nSkipping line 605702: expected 1 fields, saw 3\\nSkipping line 605828: expected 1 fields, saw 4\\nSkipping line 606070: expected 1 fields, saw 3\\nSkipping line 607512: expected 1 fields, saw 3\\nSkipping line 607928: expected 1 fields, saw 2\\nSkipping line 608654: expected 1 fields, saw 2\\nSkipping line 609015: expected 1 fields, saw 5\\nSkipping line 609352: expected 1 fields, saw 2\\nSkipping line 611215: expected 1 fields, saw 2\\nSkipping line 611314: expected 1 fields, saw 2\\nSkipping line 614442: expected 1 fields, saw 2\\nSkipping line 615838: expected 1 fields, saw 3\\nSkipping line 616082: expected 1 fields, saw 3\\nSkipping line 616320: expected 1 fields, saw 5\\nSkipping line 617445: expected 1 fields, saw 2\\nSkipping line 619275: expected 1 fields, saw 5\\nSkipping line 620231: expected 1 fields, saw 2\\nSkipping line 620245: expected 1 fields, saw 2\\nSkipping line 620870: expected 1 fields, saw 2\\nSkipping line 623427: expected 1 fields, saw 3\\nSkipping line 624302: expected 1 fields, saw 2\\nSkipping line 625083: expected 1 fields, saw 5\\nSkipping line 625324: expected 1 fields, saw 2\\nSkipping line 627673: expected 1 fields, saw 3\\nSkipping line 629131: expected 1 fields, saw 5\\nSkipping line 631028: expected 1 fields, saw 2\\nSkipping line 631521: expected 1 fields, saw 5\\nSkipping line 632119: expected 1 fields, saw 2\\nSkipping line 632461: expected 1 fields, saw 2\\nSkipping line 633679: expected 1 fields, saw 3\\nSkipping line 633904: expected 1 fields, saw 3\\nSkipping line 634355: expected 1 fields, saw 2\\nSkipping line 634805: expected 1 fields, saw 3\\nSkipping line 635091: expected 1 fields, saw 5\\nSkipping line 635134: expected 1 fields, saw 2\\nSkipping line 636345: expected 1 fields, saw 3\\nSkipping line 637621: expected 1 fields, saw 7\\nSkipping line 637889: expected 1 fields, saw 6\\nSkipping line 639686: expected 1 fields, saw 3\\nSkipping line 640132: expected 1 fields, saw 3\\nSkipping line 640146: expected 1 fields, saw 2\\nSkipping line 640213: expected 1 fields, saw 3\\nSkipping line 640224: expected 1 fields, saw 3\\nSkipping line 641212: expected 1 fields, saw 2\\nSkipping line 641690: expected 1 fields, saw 2\\nSkipping line 641863: expected 1 fields, saw 3\\nSkipping line 642208: expected 1 fields, saw 5\\nSkipping line 642814: expected 1 fields, saw 3\\nSkipping line 644641: expected 1 fields, saw 3\\nSkipping line 646586: expected 1 fields, saw 2\\nSkipping line 647268: expected 1 fields, saw 3\\nSkipping line 647547: expected 1 fields, saw 4\\nSkipping line 649745: expected 1 fields, saw 2\\nSkipping line 650891: expected 1 fields, saw 5\\nSkipping line 651024: expected 1 fields, saw 3\\nSkipping line 652037: expected 1 fields, saw 5\\nSkipping line 652114: expected 1 fields, saw 5\\nSkipping line 653266: expected 1 fields, saw 5\\nSkipping line 654206: expected 1 fields, saw 3\\nSkipping line 654735: expected 1 fields, saw 2\\nSkipping line 655037: expected 1 fields, saw 2\\nSkipping line 655376: expected 1 fields, saw 2\\nSkipping line 655594: expected 1 fields, saw 2\\nSkipping line 657720: expected 1 fields, saw 2\\nSkipping line 658799: expected 1 fields, saw 5\\nSkipping line 661058: expected 1 fields, saw 4\\nSkipping line 661183: expected 1 fields, saw 2\\nSkipping line 661225: expected 1 fields, saw 2\\nSkipping line 662979: expected 1 fields, saw 3\\nSkipping line 663084: expected 1 fields, saw 3\\nSkipping line 666339: expected 1 fields, saw 3\\nSkipping line 666684: expected 1 fields, saw 5\\nSkipping line 666783: expected 1 fields, saw 2\\nSkipping line 667169: expected 1 fields, saw 4\\nSkipping line 669100: expected 1 fields, saw 2\\nSkipping line 670489: expected 1 fields, saw 4\\nSkipping line 672032: expected 1 fields, saw 2\\nSkipping line 673166: expected 1 fields, saw 3\\nSkipping line 675809: expected 1 fields, saw 3\\nSkipping line 678953: expected 1 fields, saw 3\\nSkipping line 680102: expected 1 fields, saw 2\\nSkipping line 681397: expected 1 fields, saw 4\\nSkipping line 681815: expected 1 fields, saw 3\\nSkipping line 682532: expected 1 fields, saw 5\\nSkipping line 683749: expected 1 fields, saw 2\\nSkipping line 685256: expected 1 fields, saw 3\\nSkipping line 686019: expected 1 fields, saw 2\\nSkipping line 686249: expected 1 fields, saw 3\\nSkipping line 686414: expected 1 fields, saw 3\\nSkipping line 687279: expected 1 fields, saw 3\\nSkipping line 694447: expected 1 fields, saw 5\\nSkipping line 695356: expected 1 fields, saw 2\\nSkipping line 697643: expected 1 fields, saw 2\\nSkipping line 698344: expected 1 fields, saw 2\\nSkipping line 699060: expected 1 fields, saw 3\\nSkipping line 699108: expected 1 fields, saw 5\\nSkipping line 699479: expected 1 fields, saw 5\\nSkipping line 699710: expected 1 fields, saw 3\\nSkipping line 700341: expected 1 fields, saw 2\\nSkipping line 701128: expected 1 fields, saw 2\\nSkipping line 702084: expected 1 fields, saw 3\\nSkipping line 703922: expected 1 fields, saw 3\\nSkipping line 704070: expected 1 fields, saw 5\\nSkipping line 704802: expected 1 fields, saw 3\\nSkipping line 704814: expected 1 fields, saw 5\\nSkipping line 705427: expected 1 fields, saw 3\\nSkipping line 708422: expected 1 fields, saw 2\\nSkipping line 708832: expected 1 fields, saw 2\\nSkipping line 710619: expected 1 fields, saw 2\\nSkipping line 711886: expected 1 fields, saw 2\\nSkipping line 712383: expected 1 fields, saw 3\\nSkipping line 715014: expected 1 fields, saw 4\\nSkipping line 716707: expected 1 fields, saw 3\\nSkipping line 721468: expected 1 fields, saw 3\\nSkipping line 728826: expected 1 fields, saw 2\\nSkipping line 729314: expected 1 fields, saw 3\\nSkipping line 730512: expected 1 fields, saw 2\\nSkipping line 731159: expected 1 fields, saw 5\\nSkipping line 732125: expected 1 fields, saw 3\\nSkipping line 735601: expected 1 fields, saw 3\\nSkipping line 737079: expected 1 fields, saw 2\\nSkipping line 739581: expected 1 fields, saw 2\\nSkipping line 740229: expected 1 fields, saw 5\\nSkipping line 742660: expected 1 fields, saw 2\\nSkipping line 745202: expected 1 fields, saw 5\\nSkipping line 745546: expected 1 fields, saw 3\\nSkipping line 751436: expected 1 fields, saw 5\\nSkipping line 751814: expected 1 fields, saw 2\\nSkipping line 752044: expected 1 fields, saw 3\\nSkipping line 753447: expected 1 fields, saw 5\\nSkipping line 755259: expected 1 fields, saw 3\\nSkipping line 756915: expected 1 fields, saw 5\\nSkipping line 757626: expected 1 fields, saw 2\\nSkipping line 758521: expected 1 fields, saw 5\\nSkipping line 759052: expected 1 fields, saw 2\\nSkipping line 759205: expected 1 fields, saw 2\\nSkipping line 759313: expected 1 fields, saw 3\\nSkipping line 760156: expected 1 fields, saw 2\\nSkipping line 760200: expected 1 fields, saw 3\\nSkipping line 760215: expected 1 fields, saw 5\\nSkipping line 761455: expected 1 fields, saw 3\\nSkipping line 762611: expected 1 fields, saw 2\\nSkipping line 763576: expected 1 fields, saw 3\\nSkipping line 763714: expected 1 fields, saw 3\\nSkipping line 763828: expected 1 fields, saw 2\\nSkipping line 764672: expected 1 fields, saw 5\\nSkipping line 764673: expected 1 fields, saw 5\\nSkipping line 764677: expected 1 fields, saw 5\\nSkipping line 766196: expected 1 fields, saw 2\\nSkipping line 767479: expected 1 fields, saw 2\\nSkipping line 768178: expected 1 fields, saw 5\\nSkipping line 769025: expected 1 fields, saw 3\\nSkipping line 769510: expected 1 fields, saw 2\\nSkipping line 771143: expected 1 fields, saw 5\\nSkipping line 771574: expected 1 fields, saw 2\\nSkipping line 771734: expected 1 fields, saw 3\\nSkipping line 773889: expected 1 fields, saw 5\\nSkipping line 774498: expected 1 fields, saw 5\\nSkipping line 775835: expected 1 fields, saw 2\\nSkipping line 776172: expected 1 fields, saw 3\\nSkipping line 776310: expected 1 fields, saw 2\\nSkipping line 776812: expected 1 fields, saw 2\\nSkipping line 778190: expected 1 fields, saw 4\\nSkipping line 778748: expected 1 fields, saw 3\\nSkipping line 782690: expected 1 fields, saw 2\\nSkipping line 782928: expected 1 fields, saw 3\\nSkipping line 782956: expected 1 fields, saw 2\\nSkipping line 787587: expected 1 fields, saw 3\\nSkipping line 788467: expected 1 fields, saw 5\\nSkipping line 789416: expected 1 fields, saw 3\\nSkipping line 791971: expected 1 fields, saw 2\\nSkipping line 792330: expected 1 fields, saw 2\\nSkipping line 794213: expected 1 fields, saw 4\\nSkipping line 795137: expected 1 fields, saw 3\\nSkipping line 795563: expected 1 fields, saw 10\\nSkipping line 796151: expected 1 fields, saw 5\\nSkipping line 796159: expected 1 fields, saw 5\\nSkipping line 797329: expected 1 fields, saw 3\\nSkipping line 798476: expected 1 fields, saw 5\\nSkipping line 799148: expected 1 fields, saw 5\\nSkipping line 802004: expected 1 fields, saw 5\\nSkipping line 802025: expected 1 fields, saw 2\\nSkipping line 802037: expected 1 fields, saw 5\\nSkipping line 804976: expected 1 fields, saw 2\\nSkipping line 806301: expected 1 fields, saw 5\\nSkipping line 811897: expected 1 fields, saw 6\\nSkipping line 815265: expected 1 fields, saw 2\\nSkipping line 816392: expected 1 fields, saw 5\\nSkipping line 816772: expected 1 fields, saw 2\\nSkipping line 817463: expected 1 fields, saw 2\\nSkipping line 819048: expected 1 fields, saw 5\\nSkipping line 820528: expected 1 fields, saw 3\\nSkipping line 822165: expected 1 fields, saw 3\\nSkipping line 824935: expected 1 fields, saw 3\\nSkipping line 827055: expected 1 fields, saw 2\\nSkipping line 827186: expected 1 fields, saw 2\\nSkipping line 832442: expected 1 fields, saw 5\\nSkipping line 833061: expected 1 fields, saw 2\\nSkipping line 834487: expected 1 fields, saw 3\\nSkipping line 835674: expected 1 fields, saw 5\\nSkipping line 836057: expected 1 fields, saw 5\\nSkipping line 839345: expected 1 fields, saw 7\\nSkipping line 840415: expected 1 fields, saw 2\\nSkipping line 841379: expected 1 fields, saw 5\\nSkipping line 842885: expected 1 fields, saw 2\\nSkipping line 843364: expected 1 fields, saw 2\\nSkipping line 844992: expected 1 fields, saw 5\\nSkipping line 845178: expected 1 fields, saw 2\\nSkipping line 847254: expected 1 fields, saw 2\\nSkipping line 848568: expected 1 fields, saw 4\\nSkipping line 851733: expected 1 fields, saw 8\\nSkipping line 852571: expected 1 fields, saw 2\\nSkipping line 857909: expected 1 fields, saw 3\\nSkipping line 858465: expected 1 fields, saw 5\\nSkipping line 858893: expected 1 fields, saw 3\\nSkipping line 860119: expected 1 fields, saw 5\\nSkipping line 860559: expected 1 fields, saw 3\\nSkipping line 861323: expected 1 fields, saw 2\\nSkipping line 864940: expected 1 fields, saw 5\\nSkipping line 866655: expected 1 fields, saw 3\\nSkipping line 867934: expected 1 fields, saw 2\\nSkipping line 870255: expected 1 fields, saw 3\\nSkipping line 872189: expected 1 fields, saw 3\\nSkipping line 872331: expected 1 fields, saw 5\\nSkipping line 875711: expected 1 fields, saw 4\\nSkipping line 876324: expected 1 fields, saw 3\\nSkipping line 878726: expected 1 fields, saw 2\\nSkipping line 878879: expected 1 fields, saw 2\\nSkipping line 879837: expected 1 fields, saw 3\\nSkipping line 880972: expected 1 fields, saw 5\\nSkipping line 881028: expected 1 fields, saw 3\\nSkipping line 881319: expected 1 fields, saw 5\\nSkipping line 882929: expected 1 fields, saw 3\\nSkipping line 884481: expected 1 fields, saw 3\\nSkipping line 885350: expected 1 fields, saw 2\\nSkipping line 886302: expected 1 fields, saw 2\\nSkipping line 888094: expected 1 fields, saw 2\\nSkipping line 888468: expected 1 fields, saw 2\\nSkipping line 890175: expected 1 fields, saw 2\\nSkipping line 891944: expected 1 fields, saw 2\\nSkipping line 892123: expected 1 fields, saw 2\\nSkipping line 892437: expected 1 fields, saw 5\\nSkipping line 894823: expected 1 fields, saw 3\\nSkipping line 896492: expected 1 fields, saw 3\\nSkipping line 898918: expected 1 fields, saw 2\\nSkipping line 901350: expected 1 fields, saw 2\\nSkipping line 901593: expected 1 fields, saw 3\\nSkipping line 901821: expected 1 fields, saw 2\\nSkipping line 903188: expected 1 fields, saw 2\\nSkipping line 904107: expected 1 fields, saw 2\\nSkipping line 904282: expected 1 fields, saw 2\\nSkipping line 905894: expected 1 fields, saw 3\\nSkipping line 906533: expected 1 fields, saw 4\\nSkipping line 911448: expected 1 fields, saw 5\\nSkipping line 911568: expected 1 fields, saw 3\\nSkipping line 913351: expected 1 fields, saw 3\\nSkipping line 916107: expected 1 fields, saw 2\\nSkipping line 918831: expected 1 fields, saw 4\\nSkipping line 919476: expected 1 fields, saw 5\\nSkipping line 922151: expected 1 fields, saw 2\\nSkipping line 923767: expected 1 fields, saw 5\\nSkipping line 925628: expected 1 fields, saw 3\\nSkipping line 929569: expected 1 fields, saw 5\\nSkipping line 929571: expected 1 fields, saw 5\\nSkipping line 930786: expected 1 fields, saw 4\\nSkipping line 931843: expected 1 fields, saw 3\\nSkipping line 932229: expected 1 fields, saw 2\\nSkipping line 937331: expected 1 fields, saw 5\\nSkipping line 937479: expected 1 fields, saw 3\\nSkipping line 937481: expected 1 fields, saw 6\\nSkipping line 938503: expected 1 fields, saw 3\\nSkipping line 939021: expected 1 fields, saw 5\\nSkipping line 940007: expected 1 fields, saw 3\\nSkipping line 941405: expected 1 fields, saw 2\\nSkipping line 944213: expected 1 fields, saw 2\\nSkipping line 946026: expected 1 fields, saw 2\\nSkipping line 947843: expected 1 fields, saw 3\\nSkipping line 948552: expected 1 fields, saw 5\\nSkipping line 948693: expected 1 fields, saw 4\\nSkipping line 948901: expected 1 fields, saw 5\\nSkipping line 949599: expected 1 fields, saw 2\\nSkipping line 951019: expected 1 fields, saw 3\\nSkipping line 951509: expected 1 fields, saw 2\\nSkipping line 952535: expected 1 fields, saw 2\\nSkipping line 953245: expected 1 fields, saw 2\\nSkipping line 954121: expected 1 fields, saw 2\\nSkipping line 956085: expected 1 fields, saw 2\\nSkipping line 956195: expected 1 fields, saw 5\\nSkipping line 956829: expected 1 fields, saw 2\\nSkipping line 961539: expected 1 fields, saw 3\\nSkipping line 962215: expected 1 fields, saw 2\\nSkipping line 964724: expected 1 fields, saw 2\\nSkipping line 964772: expected 1 fields, saw 5\\nSkipping line 966818: expected 1 fields, saw 2\\nSkipping line 969431: expected 1 fields, saw 3\\nSkipping line 970393: expected 1 fields, saw 5\\nSkipping line 972206: expected 1 fields, saw 2\\nSkipping line 972350: expected 1 fields, saw 2\\nSkipping line 972500: expected 1 fields, saw 5\\nSkipping line 973202: expected 1 fields, saw 2\\nSkipping line 973305: expected 1 fields, saw 2\\nSkipping line 974230: expected 1 fields, saw 2\\nSkipping line 977549: expected 1 fields, saw 2\\nSkipping line 979206: expected 1 fields, saw 2\\nSkipping line 980036: expected 1 fields, saw 2\\nSkipping line 980774: expected 1 fields, saw 2\\nSkipping line 985462: expected 1 fields, saw 3\\nSkipping line 987185: expected 1 fields, saw 5\\nSkipping line 988072: expected 1 fields, saw 3\\nSkipping line 993042: expected 1 fields, saw 2\\nSkipping line 994988: expected 1 fields, saw 3\\nSkipping line 996732: expected 1 fields, saw 5\\nSkipping line 997072: expected 1 fields, saw 3\\nSkipping line 997084: expected 1 fields, saw 2\\nSkipping line 1000806: expected 1 fields, saw 3\\nSkipping line 1000873: expected 1 fields, saw 5\\nSkipping line 1000969: expected 1 fields, saw 3\\nSkipping line 1002658: expected 1 fields, saw 5\\nSkipping line 1003050: expected 1 fields, saw 5\\nSkipping line 1003584: expected 1 fields, saw 2\\nSkipping line 1004497: expected 1 fields, saw 3\\nSkipping line 1005283: expected 1 fields, saw 2\\nSkipping line 1005669: expected 1 fields, saw 3\\nSkipping line 1005957: expected 1 fields, saw 2\\nSkipping line 1006193: expected 1 fields, saw 5\\nSkipping line 1006965: expected 1 fields, saw 3\\nSkipping line 1007963: expected 1 fields, saw 2\\nSkipping line 1008970: expected 1 fields, saw 3\\nSkipping line 1011542: expected 1 fields, saw 4\\nSkipping line 1012156: expected 1 fields, saw 2\\nSkipping line 1014749: expected 1 fields, saw 2\\nSkipping line 1019168: expected 1 fields, saw 4\\nSkipping line 1023583: expected 1 fields, saw 2\\nSkipping line 1023668: expected 1 fields, saw 2\\nSkipping line 1024824: expected 1 fields, saw 2\\nSkipping line 1027039: expected 1 fields, saw 2\\nSkipping line 1027401: expected 1 fields, saw 2\\nSkipping line 1027706: expected 1 fields, saw 2\\nSkipping line 1029282: expected 1 fields, saw 3\\nSkipping line 1029695: expected 1 fields, saw 5\\nSkipping line 1029786: expected 1 fields, saw 3\\nSkipping line 1030577: expected 1 fields, saw 3\\nSkipping line 1031387: expected 1 fields, saw 2\\nSkipping line 1031543: expected 1 fields, saw 5\\nSkipping line 1034444: expected 1 fields, saw 5\\nSkipping line 1036029: expected 1 fields, saw 3\\nSkipping line 1041381: expected 1 fields, saw 2\\nSkipping line 1041858: expected 1 fields, saw 2\\nSkipping line 1043994: expected 1 fields, saw 2\\nSkipping line 1044911: expected 1 fields, saw 3\\nSkipping line 1045199: expected 1 fields, saw 5\\nSkipping line 1045976: expected 1 fields, saw 2\\nSkipping line 1046133: expected 1 fields, saw 2\\nSkipping line 1046712: expected 1 fields, saw 2\\nSkipping line 1046800: expected 1 fields, saw 3\\nSkipping line 1047544: expected 1 fields, saw 3\\n'\n"
     ]
    },
    {
     "name": "stderr",
     "output_type": "stream",
     "text": [
      "b'Skipping line 1049690: expected 1 fields, saw 3\\nSkipping line 1050832: expected 1 fields, saw 3\\nSkipping line 1051670: expected 1 fields, saw 2\\nSkipping line 1051982: expected 1 fields, saw 2\\nSkipping line 1055268: expected 1 fields, saw 3\\nSkipping line 1056411: expected 1 fields, saw 2\\nSkipping line 1060492: expected 1 fields, saw 4\\nSkipping line 1060630: expected 1 fields, saw 3\\nSkipping line 1061187: expected 1 fields, saw 3\\nSkipping line 1061298: expected 1 fields, saw 3\\nSkipping line 1064405: expected 1 fields, saw 3\\nSkipping line 1066595: expected 1 fields, saw 5\\nSkipping line 1068113: expected 1 fields, saw 2\\nSkipping line 1072149: expected 1 fields, saw 2\\nSkipping line 1073247: expected 1 fields, saw 2\\nSkipping line 1074303: expected 1 fields, saw 2\\nSkipping line 1074782: expected 1 fields, saw 5\\nSkipping line 1076824: expected 1 fields, saw 3\\nSkipping line 1077391: expected 1 fields, saw 5\\nSkipping line 1077749: expected 1 fields, saw 2\\nSkipping line 1078817: expected 1 fields, saw 5\\nSkipping line 1083187: expected 1 fields, saw 2\\nSkipping line 1084251: expected 1 fields, saw 5\\nSkipping line 1084946: expected 1 fields, saw 5\\nSkipping line 1085463: expected 1 fields, saw 2\\nSkipping line 1085744: expected 1 fields, saw 3\\nSkipping line 1086773: expected 1 fields, saw 2\\nSkipping line 1087314: expected 1 fields, saw 5\\nSkipping line 1088163: expected 1 fields, saw 2\\nSkipping line 1092759: expected 1 fields, saw 2\\nSkipping line 1093497: expected 1 fields, saw 5\\nSkipping line 1093827: expected 1 fields, saw 2\\nSkipping line 1096437: expected 1 fields, saw 2\\nSkipping line 1097791: expected 1 fields, saw 3\\nSkipping line 1099357: expected 1 fields, saw 2\\nSkipping line 1101999: expected 1 fields, saw 2\\nSkipping line 1102005: expected 1 fields, saw 4\\nSkipping line 1105514: expected 1 fields, saw 3\\nSkipping line 1105928: expected 1 fields, saw 5\\nSkipping line 1106955: expected 1 fields, saw 5\\nSkipping line 1107629: expected 1 fields, saw 5\\nSkipping line 1107645: expected 1 fields, saw 3\\nSkipping line 1108730: expected 1 fields, saw 2\\nSkipping line 1109173: expected 1 fields, saw 5\\nSkipping line 1109996: expected 1 fields, saw 3\\nSkipping line 1110002: expected 1 fields, saw 4\\nSkipping line 1110544: expected 1 fields, saw 2\\nSkipping line 1111144: expected 1 fields, saw 2\\nSkipping line 1115833: expected 1 fields, saw 5\\nSkipping line 1116446: expected 1 fields, saw 2\\nSkipping line 1119268: expected 1 fields, saw 2\\nSkipping line 1120452: expected 1 fields, saw 3\\nSkipping line 1120938: expected 1 fields, saw 5\\nSkipping line 1122077: expected 1 fields, saw 3\\nSkipping line 1122581: expected 1 fields, saw 5\\nSkipping line 1123515: expected 1 fields, saw 2\\nSkipping line 1124428: expected 1 fields, saw 3\\nSkipping line 1125645: expected 1 fields, saw 3\\nSkipping line 1126706: expected 1 fields, saw 5\\nSkipping line 1127765: expected 1 fields, saw 5\\nSkipping line 1129621: expected 1 fields, saw 2\\nSkipping line 1130391: expected 1 fields, saw 3\\nSkipping line 1130941: expected 1 fields, saw 4\\nSkipping line 1135442: expected 1 fields, saw 2\\nSkipping line 1135728: expected 1 fields, saw 2\\nSkipping line 1136730: expected 1 fields, saw 5\\nSkipping line 1139106: expected 1 fields, saw 5\\nSkipping line 1139958: expected 1 fields, saw 2\\nSkipping line 1140580: expected 1 fields, saw 2\\nSkipping line 1140886: expected 1 fields, saw 3\\nSkipping line 1141538: expected 1 fields, saw 5\\nSkipping line 1141541: expected 1 fields, saw 5\\nSkipping line 1142396: expected 1 fields, saw 4\\nSkipping line 1144293: expected 1 fields, saw 5\\nSkipping line 1146246: expected 1 fields, saw 5\\nSkipping line 1146646: expected 1 fields, saw 3\\nSkipping line 1148108: expected 1 fields, saw 3\\nSkipping line 1148299: expected 1 fields, saw 2\\nSkipping line 1149223: expected 1 fields, saw 4\\nSkipping line 1150444: expected 1 fields, saw 2\\nSkipping line 1151887: expected 1 fields, saw 2\\nSkipping line 1152001: expected 1 fields, saw 3\\nSkipping line 1153002: expected 1 fields, saw 3\\nSkipping line 1154507: expected 1 fields, saw 3\\nSkipping line 1155773: expected 1 fields, saw 3\\nSkipping line 1156084: expected 1 fields, saw 5\\nSkipping line 1156109: expected 1 fields, saw 2\\nSkipping line 1158207: expected 1 fields, saw 2\\nSkipping line 1158500: expected 1 fields, saw 5\\nSkipping line 1159726: expected 1 fields, saw 3\\nSkipping line 1161165: expected 1 fields, saw 2\\nSkipping line 1161300: expected 1 fields, saw 2\\nSkipping line 1165302: expected 1 fields, saw 3\\nSkipping line 1165311: expected 1 fields, saw 3\\nSkipping line 1165366: expected 1 fields, saw 2\\nSkipping line 1165841: expected 1 fields, saw 2\\nSkipping line 1168542: expected 1 fields, saw 2\\nSkipping line 1169495: expected 1 fields, saw 2\\nSkipping line 1171844: expected 1 fields, saw 2\\nSkipping line 1172220: expected 1 fields, saw 3\\nSkipping line 1173327: expected 1 fields, saw 5\\nSkipping line 1173339: expected 1 fields, saw 3\\nSkipping line 1174319: expected 1 fields, saw 2\\nSkipping line 1175836: expected 1 fields, saw 2\\nSkipping line 1178547: expected 1 fields, saw 2\\nSkipping line 1178752: expected 1 fields, saw 2\\nSkipping line 1182913: expected 1 fields, saw 3\\nSkipping line 1183430: expected 1 fields, saw 3\\nSkipping line 1183725: expected 1 fields, saw 5\\nSkipping line 1183757: expected 1 fields, saw 5\\nSkipping line 1183821: expected 1 fields, saw 2\\nSkipping line 1184101: expected 1 fields, saw 3\\nSkipping line 1184209: expected 1 fields, saw 3\\nSkipping line 1186141: expected 1 fields, saw 2\\nSkipping line 1186265: expected 1 fields, saw 2\\nSkipping line 1189492: expected 1 fields, saw 2\\nSkipping line 1191766: expected 1 fields, saw 3\\nSkipping line 1192919: expected 1 fields, saw 2\\nSkipping line 1193749: expected 1 fields, saw 2\\nSkipping line 1193803: expected 1 fields, saw 3\\nSkipping line 1194300: expected 1 fields, saw 3\\nSkipping line 1197201: expected 1 fields, saw 2\\nSkipping line 1199097: expected 1 fields, saw 2\\nSkipping line 1199750: expected 1 fields, saw 3\\nSkipping line 1200436: expected 1 fields, saw 4\\nSkipping line 1201280: expected 1 fields, saw 3\\nSkipping line 1201529: expected 1 fields, saw 3\\nSkipping line 1203719: expected 1 fields, saw 2\\nSkipping line 1203854: expected 1 fields, saw 6\\nSkipping line 1204951: expected 1 fields, saw 3\\nSkipping line 1206278: expected 1 fields, saw 3\\nSkipping line 1207039: expected 1 fields, saw 3\\nSkipping line 1207363: expected 1 fields, saw 2\\nSkipping line 1207927: expected 1 fields, saw 3\\nSkipping line 1207977: expected 1 fields, saw 2\\nSkipping line 1209842: expected 1 fields, saw 5\\nSkipping line 1212137: expected 1 fields, saw 2\\nSkipping line 1212285: expected 1 fields, saw 3\\nSkipping line 1213832: expected 1 fields, saw 2\\nSkipping line 1215727: expected 1 fields, saw 2\\nSkipping line 1216171: expected 1 fields, saw 3\\nSkipping line 1217345: expected 1 fields, saw 5\\nSkipping line 1219319: expected 1 fields, saw 2\\nSkipping line 1219798: expected 1 fields, saw 2\\nSkipping line 1221075: expected 1 fields, saw 3\\nSkipping line 1221381: expected 1 fields, saw 3\\nSkipping line 1223185: expected 1 fields, saw 2\\nSkipping line 1223401: expected 1 fields, saw 3\\nSkipping line 1224027: expected 1 fields, saw 3\\nSkipping line 1224113: expected 1 fields, saw 2\\nSkipping line 1227099: expected 1 fields, saw 2\\nSkipping line 1227770: expected 1 fields, saw 2\\nSkipping line 1227883: expected 1 fields, saw 3\\nSkipping line 1229799: expected 1 fields, saw 5\\nSkipping line 1236527: expected 1 fields, saw 2\\nSkipping line 1238130: expected 1 fields, saw 5\\nSkipping line 1238181: expected 1 fields, saw 4\\nSkipping line 1239934: expected 1 fields, saw 5\\nSkipping line 1243610: expected 1 fields, saw 2\\nSkipping line 1243990: expected 1 fields, saw 3\\nSkipping line 1244055: expected 1 fields, saw 3\\nSkipping line 1245512: expected 1 fields, saw 2\\nSkipping line 1245705: expected 1 fields, saw 7\\nSkipping line 1245855: expected 1 fields, saw 5\\nSkipping line 1245933: expected 1 fields, saw 3\\nSkipping line 1246405: expected 1 fields, saw 5\\nSkipping line 1246687: expected 1 fields, saw 3\\nSkipping line 1248843: expected 1 fields, saw 5\\nSkipping line 1249645: expected 1 fields, saw 2\\nSkipping line 1251032: expected 1 fields, saw 2\\nSkipping line 1251670: expected 1 fields, saw 4\\nSkipping line 1254586: expected 1 fields, saw 2\\nSkipping line 1254816: expected 1 fields, saw 2\\nSkipping line 1254858: expected 1 fields, saw 5\\nSkipping line 1256689: expected 1 fields, saw 2\\nSkipping line 1256985: expected 1 fields, saw 2\\nSkipping line 1259716: expected 1 fields, saw 4\\nSkipping line 1261610: expected 1 fields, saw 2\\nSkipping line 1263152: expected 1 fields, saw 2\\nSkipping line 1263175: expected 1 fields, saw 5\\nSkipping line 1263191: expected 1 fields, saw 5\\nSkipping line 1263612: expected 1 fields, saw 2\\nSkipping line 1263776: expected 1 fields, saw 2\\nSkipping line 1264476: expected 1 fields, saw 3\\nSkipping line 1264769: expected 1 fields, saw 3\\nSkipping line 1264968: expected 1 fields, saw 3\\nSkipping line 1265429: expected 1 fields, saw 2\\nSkipping line 1266480: expected 1 fields, saw 4\\nSkipping line 1268430: expected 1 fields, saw 3\\nSkipping line 1271542: expected 1 fields, saw 5\\nSkipping line 1274855: expected 1 fields, saw 4\\nSkipping line 1279439: expected 1 fields, saw 4\\nSkipping line 1279581: expected 1 fields, saw 2\\nSkipping line 1280036: expected 1 fields, saw 5\\nSkipping line 1280970: expected 1 fields, saw 2\\nSkipping line 1281820: expected 1 fields, saw 2\\nSkipping line 1281821: expected 1 fields, saw 2\\nSkipping line 1282430: expected 1 fields, saw 2\\nSkipping line 1284047: expected 1 fields, saw 2\\nSkipping line 1284336: expected 1 fields, saw 3\\nSkipping line 1284900: expected 1 fields, saw 3\\nSkipping line 1285036: expected 1 fields, saw 2\\nSkipping line 1288265: expected 1 fields, saw 3\\nSkipping line 1288327: expected 1 fields, saw 2\\nSkipping line 1288405: expected 1 fields, saw 2\\nSkipping line 1288408: expected 1 fields, saw 3\\nSkipping line 1288506: expected 1 fields, saw 5\\nSkipping line 1289071: expected 1 fields, saw 2\\nSkipping line 1289162: expected 1 fields, saw 5\\nSkipping line 1289218: expected 1 fields, saw 2\\nSkipping line 1289428: expected 1 fields, saw 5\\nSkipping line 1290650: expected 1 fields, saw 5\\nSkipping line 1291764: expected 1 fields, saw 7\\nSkipping line 1292155: expected 1 fields, saw 3\\nSkipping line 1294305: expected 1 fields, saw 2\\nSkipping line 1295351: expected 1 fields, saw 3\\nSkipping line 1296370: expected 1 fields, saw 3\\nSkipping line 1297933: expected 1 fields, saw 3\\nSkipping line 1299183: expected 1 fields, saw 2\\nSkipping line 1300854: expected 1 fields, saw 3\\nSkipping line 1301372: expected 1 fields, saw 3\\nSkipping line 1302148: expected 1 fields, saw 2\\nSkipping line 1302431: expected 1 fields, saw 2\\nSkipping line 1302988: expected 1 fields, saw 2\\nSkipping line 1303699: expected 1 fields, saw 2\\nSkipping line 1304387: expected 1 fields, saw 2\\nSkipping line 1304492: expected 1 fields, saw 3\\nSkipping line 1304548: expected 1 fields, saw 2\\nSkipping line 1307267: expected 1 fields, saw 6\\nSkipping line 1307941: expected 1 fields, saw 2\\nSkipping line 1311409: expected 1 fields, saw 4\\nSkipping line 1312605: expected 1 fields, saw 3\\nSkipping line 1312930: expected 1 fields, saw 9\\nSkipping line 1313908: expected 1 fields, saw 2\\nSkipping line 1314061: expected 1 fields, saw 3\\nSkipping line 1314627: expected 1 fields, saw 5\\nSkipping line 1314790: expected 1 fields, saw 2\\nSkipping line 1315585: expected 1 fields, saw 5\\nSkipping line 1315721: expected 1 fields, saw 3\\nSkipping line 1316743: expected 1 fields, saw 2\\nSkipping line 1317682: expected 1 fields, saw 2\\nSkipping line 1320898: expected 1 fields, saw 2\\nSkipping line 1323849: expected 1 fields, saw 3\\nSkipping line 1323995: expected 1 fields, saw 5\\nSkipping line 1324897: expected 1 fields, saw 3\\nSkipping line 1325060: expected 1 fields, saw 3\\nSkipping line 1326096: expected 1 fields, saw 3\\nSkipping line 1326945: expected 1 fields, saw 3\\nSkipping line 1327337: expected 1 fields, saw 2\\nSkipping line 1329489: expected 1 fields, saw 2\\nSkipping line 1330261: expected 1 fields, saw 3\\nSkipping line 1332399: expected 1 fields, saw 7\\nSkipping line 1333313: expected 1 fields, saw 3\\nSkipping line 1336794: expected 1 fields, saw 5\\nSkipping line 1338729: expected 1 fields, saw 2\\nSkipping line 1339038: expected 1 fields, saw 2\\nSkipping line 1339632: expected 1 fields, saw 5\\nSkipping line 1339747: expected 1 fields, saw 3\\nSkipping line 1340423: expected 1 fields, saw 4\\nSkipping line 1340514: expected 1 fields, saw 2\\nSkipping line 1340779: expected 1 fields, saw 3\\nSkipping line 1341310: expected 1 fields, saw 3\\nSkipping line 1341353: expected 1 fields, saw 3\\nSkipping line 1341657: expected 1 fields, saw 5\\nSkipping line 1348220: expected 1 fields, saw 3\\nSkipping line 1349015: expected 1 fields, saw 3\\nSkipping line 1349292: expected 1 fields, saw 5\\nSkipping line 1349711: expected 1 fields, saw 3\\nSkipping line 1349760: expected 1 fields, saw 2\\nSkipping line 1350291: expected 1 fields, saw 4\\nSkipping line 1350755: expected 1 fields, saw 5\\nSkipping line 1350795: expected 1 fields, saw 5\\nSkipping line 1350819: expected 1 fields, saw 6\\nSkipping line 1350838: expected 1 fields, saw 4\\nSkipping line 1352768: expected 1 fields, saw 2\\nSkipping line 1353468: expected 1 fields, saw 3\\nSkipping line 1353649: expected 1 fields, saw 3\\nSkipping line 1354344: expected 1 fields, saw 2\\nSkipping line 1354668: expected 1 fields, saw 5\\nSkipping line 1354715: expected 1 fields, saw 3\\nSkipping line 1357519: expected 1 fields, saw 2\\nSkipping line 1359552: expected 1 fields, saw 2\\nSkipping line 1359742: expected 1 fields, saw 2\\nSkipping line 1360740: expected 1 fields, saw 3\\nSkipping line 1361179: expected 1 fields, saw 3\\nSkipping line 1362840: expected 1 fields, saw 3\\nSkipping line 1363112: expected 1 fields, saw 5\\nSkipping line 1364437: expected 1 fields, saw 2\\nSkipping line 1366898: expected 1 fields, saw 3\\nSkipping line 1367472: expected 1 fields, saw 4\\nSkipping line 1367595: expected 1 fields, saw 3\\nSkipping line 1369207: expected 1 fields, saw 5\\nSkipping line 1369222: expected 1 fields, saw 5\\nSkipping line 1370006: expected 1 fields, saw 5\\nSkipping line 1371781: expected 1 fields, saw 2\\nSkipping line 1373432: expected 1 fields, saw 2\\nSkipping line 1374639: expected 1 fields, saw 2\\nSkipping line 1376330: expected 1 fields, saw 5\\nSkipping line 1377125: expected 1 fields, saw 2\\nSkipping line 1378094: expected 1 fields, saw 2\\nSkipping line 1378281: expected 1 fields, saw 3\\nSkipping line 1378344: expected 1 fields, saw 2\\nSkipping line 1379871: expected 1 fields, saw 2\\nSkipping line 1380953: expected 1 fields, saw 2\\nSkipping line 1382362: expected 1 fields, saw 2\\nSkipping line 1382524: expected 1 fields, saw 2\\nSkipping line 1383512: expected 1 fields, saw 2\\nSkipping line 1384637: expected 1 fields, saw 2\\nSkipping line 1387071: expected 1 fields, saw 2\\nSkipping line 1387234: expected 1 fields, saw 3\\nSkipping line 1389862: expected 1 fields, saw 2\\nSkipping line 1389864: expected 1 fields, saw 5\\nSkipping line 1390915: expected 1 fields, saw 2\\nSkipping line 1392874: expected 1 fields, saw 2\\nSkipping line 1393136: expected 1 fields, saw 3\\nSkipping line 1394130: expected 1 fields, saw 5\\nSkipping line 1394654: expected 1 fields, saw 5\\nSkipping line 1394749: expected 1 fields, saw 4\\nSkipping line 1395309: expected 1 fields, saw 3\\nSkipping line 1395470: expected 1 fields, saw 2\\nSkipping line 1396355: expected 1 fields, saw 5\\nSkipping line 1397142: expected 1 fields, saw 3\\nSkipping line 1398203: expected 1 fields, saw 3\\nSkipping line 1400382: expected 1 fields, saw 3\\nSkipping line 1402879: expected 1 fields, saw 3\\nSkipping line 1407302: expected 1 fields, saw 5\\nSkipping line 1408167: expected 1 fields, saw 5\\nSkipping line 1408816: expected 1 fields, saw 2\\nSkipping line 1410612: expected 1 fields, saw 2\\nSkipping line 1410700: expected 1 fields, saw 3\\nSkipping line 1411610: expected 1 fields, saw 3\\nSkipping line 1413137: expected 1 fields, saw 2\\nSkipping line 1415697: expected 1 fields, saw 2\\nSkipping line 1416035: expected 1 fields, saw 2\\nSkipping line 1416180: expected 1 fields, saw 2\\nSkipping line 1416860: expected 1 fields, saw 2\\nSkipping line 1417020: expected 1 fields, saw 5\\nSkipping line 1419602: expected 1 fields, saw 2\\nSkipping line 1423196: expected 1 fields, saw 3\\nSkipping line 1425325: expected 1 fields, saw 5\\nSkipping line 1426954: expected 1 fields, saw 5\\nSkipping line 1429576: expected 1 fields, saw 2\\nSkipping line 1429750: expected 1 fields, saw 2\\nSkipping line 1429996: expected 1 fields, saw 3\\nSkipping line 1430160: expected 1 fields, saw 3\\nSkipping line 1430766: expected 1 fields, saw 2\\nSkipping line 1431793: expected 1 fields, saw 2\\nSkipping line 1432596: expected 1 fields, saw 2\\nSkipping line 1433148: expected 1 fields, saw 3\\nSkipping line 1434798: expected 1 fields, saw 3\\nSkipping line 1436643: expected 1 fields, saw 3\\nSkipping line 1436940: expected 1 fields, saw 5\\nSkipping line 1437005: expected 1 fields, saw 4\\nSkipping line 1437019: expected 1 fields, saw 5\\nSkipping line 1437173: expected 1 fields, saw 3\\nSkipping line 1438543: expected 1 fields, saw 3\\nSkipping line 1438582: expected 1 fields, saw 2\\nSkipping line 1439701: expected 1 fields, saw 5\\nSkipping line 1440111: expected 1 fields, saw 5\\nSkipping line 1441590: expected 1 fields, saw 3\\nSkipping line 1441908: expected 1 fields, saw 3\\nSkipping line 1442011: expected 1 fields, saw 2\\nSkipping line 1443113: expected 1 fields, saw 2\\nSkipping line 1443417: expected 1 fields, saw 2\\nSkipping line 1446173: expected 1 fields, saw 3\\nSkipping line 1446549: expected 1 fields, saw 2\\nSkipping line 1447049: expected 1 fields, saw 3\\nSkipping line 1447151: expected 1 fields, saw 5\\nSkipping line 1447463: expected 1 fields, saw 5\\nSkipping line 1448115: expected 1 fields, saw 4\\nSkipping line 1448752: expected 1 fields, saw 5\\nSkipping line 1450583: expected 1 fields, saw 5\\nSkipping line 1450671: expected 1 fields, saw 2\\nSkipping line 1451416: expected 1 fields, saw 3\\nSkipping line 1452533: expected 1 fields, saw 2\\nSkipping line 1453146: expected 1 fields, saw 3\\nSkipping line 1456064: expected 1 fields, saw 5\\nSkipping line 1456585: expected 1 fields, saw 10\\nSkipping line 1456811: expected 1 fields, saw 2\\nSkipping line 1457041: expected 1 fields, saw 5\\nSkipping line 1457274: expected 1 fields, saw 5\\nSkipping line 1457304: expected 1 fields, saw 5\\nSkipping line 1457423: expected 1 fields, saw 2\\nSkipping line 1457695: expected 1 fields, saw 3\\nSkipping line 1458782: expected 1 fields, saw 3\\nSkipping line 1459580: expected 1 fields, saw 4\\nSkipping line 1460879: expected 1 fields, saw 3\\nSkipping line 1460988: expected 1 fields, saw 2\\nSkipping line 1461101: expected 1 fields, saw 5\\nSkipping line 1461852: expected 1 fields, saw 2\\nSkipping line 1463541: expected 1 fields, saw 4\\nSkipping line 1463772: expected 1 fields, saw 2\\nSkipping line 1465498: expected 1 fields, saw 2\\nSkipping line 1466144: expected 1 fields, saw 2\\nSkipping line 1468020: expected 1 fields, saw 5\\nSkipping line 1469571: expected 1 fields, saw 4\\nSkipping line 1470714: expected 1 fields, saw 5\\nSkipping line 1471098: expected 1 fields, saw 2\\nSkipping line 1471697: expected 1 fields, saw 3\\nSkipping line 1472583: expected 1 fields, saw 3\\nSkipping line 1474094: expected 1 fields, saw 4\\nSkipping line 1476143: expected 1 fields, saw 2\\nSkipping line 1476937: expected 1 fields, saw 4\\nSkipping line 1477414: expected 1 fields, saw 5\\nSkipping line 1478153: expected 1 fields, saw 2\\nSkipping line 1478236: expected 1 fields, saw 2\\nSkipping line 1478237: expected 1 fields, saw 2\\nSkipping line 1478704: expected 1 fields, saw 2\\nSkipping line 1479337: expected 1 fields, saw 3\\nSkipping line 1481532: expected 1 fields, saw 4\\nSkipping line 1481867: expected 1 fields, saw 3\\nSkipping line 1482315: expected 1 fields, saw 3\\nSkipping line 1485344: expected 1 fields, saw 2\\nSkipping line 1487225: expected 1 fields, saw 2\\nSkipping line 1487434: expected 1 fields, saw 5\\nSkipping line 1487817: expected 1 fields, saw 3\\nSkipping line 1488193: expected 1 fields, saw 3\\nSkipping line 1488590: expected 1 fields, saw 3\\nSkipping line 1489127: expected 1 fields, saw 5\\nSkipping line 1489129: expected 1 fields, saw 5\\nSkipping line 1491874: expected 1 fields, saw 3\\nSkipping line 1492260: expected 1 fields, saw 4\\nSkipping line 1493512: expected 1 fields, saw 2\\nSkipping line 1494855: expected 1 fields, saw 3\\nSkipping line 1497740: expected 1 fields, saw 5\\nSkipping line 1498581: expected 1 fields, saw 2\\nSkipping line 1500057: expected 1 fields, saw 5\\nSkipping line 1500976: expected 1 fields, saw 2\\nSkipping line 1501437: expected 1 fields, saw 2\\nSkipping line 1502510: expected 1 fields, saw 3\\nSkipping line 1505117: expected 1 fields, saw 5\\nSkipping line 1505757: expected 1 fields, saw 2\\nSkipping line 1506385: expected 1 fields, saw 2\\nSkipping line 1506870: expected 1 fields, saw 2\\nSkipping line 1508148: expected 1 fields, saw 2\\nSkipping line 1510414: expected 1 fields, saw 5\\nSkipping line 1510700: expected 1 fields, saw 3\\nSkipping line 1510817: expected 1 fields, saw 5\\nSkipping line 1511341: expected 1 fields, saw 4\\nSkipping line 1511605: expected 1 fields, saw 2\\nSkipping line 1513880: expected 1 fields, saw 4\\nSkipping line 1514062: expected 1 fields, saw 3\\nSkipping line 1518464: expected 1 fields, saw 3\\nSkipping line 1519801: expected 1 fields, saw 4\\nSkipping line 1519935: expected 1 fields, saw 2\\nSkipping line 1520321: expected 1 fields, saw 3\\nSkipping line 1520684: expected 1 fields, saw 3\\nSkipping line 1520823: expected 1 fields, saw 3\\nSkipping line 1522093: expected 1 fields, saw 5\\nSkipping line 1522439: expected 1 fields, saw 2\\nSkipping line 1522946: expected 1 fields, saw 2\\nSkipping line 1524426: expected 1 fields, saw 2\\nSkipping line 1525572: expected 1 fields, saw 5\\nSkipping line 1525846: expected 1 fields, saw 2\\nSkipping line 1526266: expected 1 fields, saw 2\\nSkipping line 1528280: expected 1 fields, saw 2\\nSkipping line 1528705: expected 1 fields, saw 2\\nSkipping line 1529563: expected 1 fields, saw 5\\nSkipping line 1530634: expected 1 fields, saw 2\\nSkipping line 1530787: expected 1 fields, saw 2\\nSkipping line 1531460: expected 1 fields, saw 3\\nSkipping line 1532279: expected 1 fields, saw 2\\nSkipping line 1532863: expected 1 fields, saw 2\\nSkipping line 1533159: expected 1 fields, saw 5\\nSkipping line 1533218: expected 1 fields, saw 5\\nSkipping line 1535318: expected 1 fields, saw 3\\nSkipping line 1537940: expected 1 fields, saw 2\\nSkipping line 1539696: expected 1 fields, saw 3\\nSkipping line 1540239: expected 1 fields, saw 3\\nSkipping line 1541866: expected 1 fields, saw 2\\nSkipping line 1544548: expected 1 fields, saw 3\\nSkipping line 1544664: expected 1 fields, saw 5\\nSkipping line 1544713: expected 1 fields, saw 2\\nSkipping line 1545485: expected 1 fields, saw 2\\nSkipping line 1545489: expected 1 fields, saw 2\\nSkipping line 1545924: expected 1 fields, saw 4\\nSkipping line 1548098: expected 1 fields, saw 5\\nSkipping line 1548851: expected 1 fields, saw 2\\nSkipping line 1549365: expected 1 fields, saw 2\\nSkipping line 1549844: expected 1 fields, saw 5\\nSkipping line 1550369: expected 1 fields, saw 3\\nSkipping line 1551164: expected 1 fields, saw 3\\nSkipping line 1552352: expected 1 fields, saw 2\\nSkipping line 1553159: expected 1 fields, saw 2\\nSkipping line 1554372: expected 1 fields, saw 3\\nSkipping line 1554575: expected 1 fields, saw 5\\nSkipping line 1556087: expected 1 fields, saw 2\\nSkipping line 1556247: expected 1 fields, saw 5\\nSkipping line 1558538: expected 1 fields, saw 2\\nSkipping line 1558804: expected 1 fields, saw 3\\nSkipping line 1562860: expected 1 fields, saw 2\\nSkipping line 1563267: expected 1 fields, saw 2\\nSkipping line 1563623: expected 1 fields, saw 4\\nSkipping line 1564825: expected 1 fields, saw 2\\nSkipping line 1565466: expected 1 fields, saw 5\\nSkipping line 1566646: expected 1 fields, saw 3\\nSkipping line 1566849: expected 1 fields, saw 3\\nSkipping line 1567334: expected 1 fields, saw 5\\nSkipping line 1569524: expected 1 fields, saw 2\\nSkipping line 1569919: expected 1 fields, saw 3\\nSkipping line 1570173: expected 1 fields, saw 2\\nSkipping line 1571240: expected 1 fields, saw 2\\n'\n",
      "b'Skipping line 1574348: expected 1 fields, saw 3\\nSkipping line 1575004: expected 1 fields, saw 3\\nSkipping line 1575743: expected 1 fields, saw 4\\nSkipping line 1576221: expected 1 fields, saw 3\\nSkipping line 1577649: expected 1 fields, saw 5\\nSkipping line 1578924: expected 1 fields, saw 2\\nSkipping line 1579611: expected 1 fields, saw 2\\nSkipping line 1579718: expected 1 fields, saw 5\\nSkipping line 1581366: expected 1 fields, saw 2\\nSkipping line 1583628: expected 1 fields, saw 3\\nSkipping line 1583844: expected 1 fields, saw 2\\nSkipping line 1583937: expected 1 fields, saw 3\\nSkipping line 1584216: expected 1 fields, saw 5\\nSkipping line 1586075: expected 1 fields, saw 2\\nSkipping line 1586994: expected 1 fields, saw 2\\nSkipping line 1587511: expected 1 fields, saw 3\\nSkipping line 1587678: expected 1 fields, saw 3\\nSkipping line 1588818: expected 1 fields, saw 2\\nSkipping line 1591896: expected 1 fields, saw 3\\nSkipping line 1592422: expected 1 fields, saw 3\\nSkipping line 1594112: expected 1 fields, saw 3\\nSkipping line 1596925: expected 1 fields, saw 5\\nSkipping line 1597133: expected 1 fields, saw 3\\nSkipping line 1598536: expected 1 fields, saw 2\\nSkipping line 1598582: expected 1 fields, saw 2\\nSkipping line 1598739: expected 1 fields, saw 4\\nSkipping line 1599889: expected 1 fields, saw 3\\nSkipping line 1600704: expected 1 fields, saw 5\\nSkipping line 1600847: expected 1 fields, saw 2\\nSkipping line 1602840: expected 1 fields, saw 4\\nSkipping line 1602946: expected 1 fields, saw 2\\nSkipping line 1603288: expected 1 fields, saw 3\\nSkipping line 1603799: expected 1 fields, saw 2\\nSkipping line 1603800: expected 1 fields, saw 5\\nSkipping line 1605524: expected 1 fields, saw 3\\nSkipping line 1613590: expected 1 fields, saw 3\\nSkipping line 1614167: expected 1 fields, saw 2\\nSkipping line 1614532: expected 1 fields, saw 2\\nSkipping line 1616195: expected 1 fields, saw 5\\nSkipping line 1616242: expected 1 fields, saw 5\\nSkipping line 1616261: expected 1 fields, saw 5\\nSkipping line 1616288: expected 1 fields, saw 5\\nSkipping line 1618229: expected 1 fields, saw 5\\nSkipping line 1618398: expected 1 fields, saw 3\\nSkipping line 1619777: expected 1 fields, saw 2\\nSkipping line 1624163: expected 1 fields, saw 5\\nSkipping line 1624297: expected 1 fields, saw 5\\nSkipping line 1625076: expected 1 fields, saw 2\\nSkipping line 1625635: expected 1 fields, saw 2\\nSkipping line 1626895: expected 1 fields, saw 5\\nSkipping line 1628105: expected 1 fields, saw 2\\nSkipping line 1628329: expected 1 fields, saw 3\\nSkipping line 1628627: expected 1 fields, saw 2\\nSkipping line 1628997: expected 1 fields, saw 3\\nSkipping line 1629803: expected 1 fields, saw 2\\nSkipping line 1635233: expected 1 fields, saw 2\\nSkipping line 1635634: expected 1 fields, saw 2\\nSkipping line 1636109: expected 1 fields, saw 3\\nSkipping line 1636146: expected 1 fields, saw 5\\nSkipping line 1638835: expected 1 fields, saw 2\\nSkipping line 1639020: expected 1 fields, saw 3\\nSkipping line 1639369: expected 1 fields, saw 3\\nSkipping line 1639682: expected 1 fields, saw 3\\nSkipping line 1640337: expected 1 fields, saw 4\\nSkipping line 1641115: expected 1 fields, saw 3\\nSkipping line 1641209: expected 1 fields, saw 5\\nSkipping line 1641354: expected 1 fields, saw 2\\nSkipping line 1642372: expected 1 fields, saw 4\\nSkipping line 1642535: expected 1 fields, saw 3\\nSkipping line 1643901: expected 1 fields, saw 5\\nSkipping line 1644148: expected 1 fields, saw 2\\nSkipping line 1644844: expected 1 fields, saw 2\\nSkipping line 1645204: expected 1 fields, saw 7\\nSkipping line 1645528: expected 1 fields, saw 2\\nSkipping line 1646209: expected 1 fields, saw 5\\nSkipping line 1646278: expected 1 fields, saw 3\\nSkipping line 1646543: expected 1 fields, saw 3\\nSkipping line 1648117: expected 1 fields, saw 2\\nSkipping line 1649934: expected 1 fields, saw 2\\nSkipping line 1650989: expected 1 fields, saw 2\\nSkipping line 1652264: expected 1 fields, saw 3\\nSkipping line 1652603: expected 1 fields, saw 3\\nSkipping line 1653414: expected 1 fields, saw 2\\nSkipping line 1653442: expected 1 fields, saw 2\\nSkipping line 1653813: expected 1 fields, saw 5\\nSkipping line 1654318: expected 1 fields, saw 2\\nSkipping line 1654942: expected 1 fields, saw 2\\nSkipping line 1657331: expected 1 fields, saw 3\\nSkipping line 1657374: expected 1 fields, saw 5\\nSkipping line 1659867: expected 1 fields, saw 2\\nSkipping line 1660674: expected 1 fields, saw 2\\nSkipping line 1661666: expected 1 fields, saw 2\\nSkipping line 1661821: expected 1 fields, saw 2\\nSkipping line 1663851: expected 1 fields, saw 2\\nSkipping line 1664234: expected 1 fields, saw 5\\nSkipping line 1666106: expected 1 fields, saw 2\\nSkipping line 1666367: expected 1 fields, saw 2\\nSkipping line 1666824: expected 1 fields, saw 5\\nSkipping line 1666880: expected 1 fields, saw 5\\nSkipping line 1666884: expected 1 fields, saw 5\\nSkipping line 1667642: expected 1 fields, saw 3\\nSkipping line 1668068: expected 1 fields, saw 2\\nSkipping line 1669891: expected 1 fields, saw 3\\nSkipping line 1670246: expected 1 fields, saw 4\\nSkipping line 1670520: expected 1 fields, saw 5\\nSkipping line 1670859: expected 1 fields, saw 2\\nSkipping line 1675775: expected 1 fields, saw 3\\nSkipping line 1677306: expected 1 fields, saw 3\\nSkipping line 1679900: expected 1 fields, saw 5\\nSkipping line 1680657: expected 1 fields, saw 2\\nSkipping line 1681230: expected 1 fields, saw 3\\nSkipping line 1681402: expected 1 fields, saw 3\\nSkipping line 1681855: expected 1 fields, saw 2\\nSkipping line 1683435: expected 1 fields, saw 2\\nSkipping line 1683592: expected 1 fields, saw 4\\nSkipping line 1685923: expected 1 fields, saw 2\\nSkipping line 1686234: expected 1 fields, saw 2\\nSkipping line 1686358: expected 1 fields, saw 5\\nSkipping line 1688170: expected 1 fields, saw 3\\nSkipping line 1688226: expected 1 fields, saw 2\\nSkipping line 1689028: expected 1 fields, saw 5\\nSkipping line 1689600: expected 1 fields, saw 3\\nSkipping line 1692402: expected 1 fields, saw 2\\nSkipping line 1693290: expected 1 fields, saw 5\\nSkipping line 1693445: expected 1 fields, saw 3\\nSkipping line 1693728: expected 1 fields, saw 2\\nSkipping line 1694685: expected 1 fields, saw 3\\nSkipping line 1694693: expected 1 fields, saw 2\\nSkipping line 1696988: expected 1 fields, saw 2\\nSkipping line 1697734: expected 1 fields, saw 2\\nSkipping line 1697915: expected 1 fields, saw 3\\nSkipping line 1698500: expected 1 fields, saw 2\\nSkipping line 1700357: expected 1 fields, saw 5\\nSkipping line 1700690: expected 1 fields, saw 4\\nSkipping line 1701325: expected 1 fields, saw 2\\nSkipping line 1704925: expected 1 fields, saw 2\\nSkipping line 1705034: expected 1 fields, saw 5\\nSkipping line 1706072: expected 1 fields, saw 2\\nSkipping line 1706296: expected 1 fields, saw 3\\nSkipping line 1706833: expected 1 fields, saw 5\\nSkipping line 1706973: expected 1 fields, saw 5\\nSkipping line 1706993: expected 1 fields, saw 5\\nSkipping line 1708203: expected 1 fields, saw 5\\nSkipping line 1709995: expected 1 fields, saw 3\\nSkipping line 1714325: expected 1 fields, saw 2\\nSkipping line 1714975: expected 1 fields, saw 3\\nSkipping line 1715027: expected 1 fields, saw 2\\nSkipping line 1715897: expected 1 fields, saw 2\\nSkipping line 1716628: expected 1 fields, saw 3\\nSkipping line 1716648: expected 1 fields, saw 3\\nSkipping line 1717035: expected 1 fields, saw 2\\nSkipping line 1717562: expected 1 fields, saw 3\\nSkipping line 1718362: expected 1 fields, saw 2\\nSkipping line 1720532: expected 1 fields, saw 5\\nSkipping line 1720707: expected 1 fields, saw 3\\nSkipping line 1720729: expected 1 fields, saw 5\\nSkipping line 1723271: expected 1 fields, saw 2\\nSkipping line 1723873: expected 1 fields, saw 2\\nSkipping line 1724129: expected 1 fields, saw 2\\nSkipping line 1726857: expected 1 fields, saw 3\\nSkipping line 1727956: expected 1 fields, saw 2\\nSkipping line 1728079: expected 1 fields, saw 2\\nSkipping line 1728085: expected 1 fields, saw 4\\nSkipping line 1728651: expected 1 fields, saw 2\\nSkipping line 1728820: expected 1 fields, saw 2\\nSkipping line 1731419: expected 1 fields, saw 2\\nSkipping line 1731570: expected 1 fields, saw 3\\nSkipping line 1731600: expected 1 fields, saw 2\\nSkipping line 1731779: expected 1 fields, saw 3\\nSkipping line 1732558: expected 1 fields, saw 2\\nSkipping line 1733676: expected 1 fields, saw 3\\nSkipping line 1734072: expected 1 fields, saw 3\\nSkipping line 1736808: expected 1 fields, saw 2\\nSkipping line 1737518: expected 1 fields, saw 2\\nSkipping line 1738616: expected 1 fields, saw 3\\nSkipping line 1739670: expected 1 fields, saw 2\\nSkipping line 1742534: expected 1 fields, saw 2\\nSkipping line 1743931: expected 1 fields, saw 2\\nSkipping line 1744397: expected 1 fields, saw 2\\nSkipping line 1746959: expected 1 fields, saw 3\\nSkipping line 1747609: expected 1 fields, saw 2\\nSkipping line 1747899: expected 1 fields, saw 5\\nSkipping line 1748380: expected 1 fields, saw 2\\nSkipping line 1748905: expected 1 fields, saw 3\\nSkipping line 1748964: expected 1 fields, saw 5\\nSkipping line 1750674: expected 1 fields, saw 3\\nSkipping line 1751105: expected 1 fields, saw 5\\nSkipping line 1751184: expected 1 fields, saw 2\\nSkipping line 1752503: expected 1 fields, saw 5\\nSkipping line 1754180: expected 1 fields, saw 2\\nSkipping line 1754675: expected 1 fields, saw 3\\nSkipping line 1758786: expected 1 fields, saw 2\\nSkipping line 1760592: expected 1 fields, saw 3\\nSkipping line 1760744: expected 1 fields, saw 3\\nSkipping line 1761243: expected 1 fields, saw 4\\nSkipping line 1762313: expected 1 fields, saw 3\\nSkipping line 1762314: expected 1 fields, saw 3\\nSkipping line 1764816: expected 1 fields, saw 4\\nSkipping line 1765481: expected 1 fields, saw 2\\nSkipping line 1765610: expected 1 fields, saw 2\\nSkipping line 1765796: expected 1 fields, saw 3\\nSkipping line 1766392: expected 1 fields, saw 2\\nSkipping line 1767044: expected 1 fields, saw 2\\nSkipping line 1768690: expected 1 fields, saw 3\\nSkipping line 1768863: expected 1 fields, saw 3\\nSkipping line 1770101: expected 1 fields, saw 2\\nSkipping line 1771015: expected 1 fields, saw 3\\nSkipping line 1772513: expected 1 fields, saw 2\\nSkipping line 1773035: expected 1 fields, saw 3\\nSkipping line 1773978: expected 1 fields, saw 2\\nSkipping line 1775166: expected 1 fields, saw 2\\nSkipping line 1775203: expected 1 fields, saw 3\\nSkipping line 1777468: expected 1 fields, saw 7\\nSkipping line 1778851: expected 1 fields, saw 2\\nSkipping line 1783623: expected 1 fields, saw 5\\nSkipping line 1783992: expected 1 fields, saw 2\\nSkipping line 1784480: expected 1 fields, saw 3\\nSkipping line 1785144: expected 1 fields, saw 2\\nSkipping line 1785535: expected 1 fields, saw 3\\nSkipping line 1785641: expected 1 fields, saw 3\\nSkipping line 1786169: expected 1 fields, saw 2\\nSkipping line 1786721: expected 1 fields, saw 5\\nSkipping line 1786942: expected 1 fields, saw 2\\nSkipping line 1787480: expected 1 fields, saw 2\\nSkipping line 1788819: expected 1 fields, saw 3\\nSkipping line 1789594: expected 1 fields, saw 3\\nSkipping line 1790780: expected 1 fields, saw 3\\nSkipping line 1790844: expected 1 fields, saw 2\\nSkipping line 1791140: expected 1 fields, saw 2\\nSkipping line 1791572: expected 1 fields, saw 3\\nSkipping line 1792262: expected 1 fields, saw 2\\nSkipping line 1792484: expected 1 fields, saw 5\\nSkipping line 1792604: expected 1 fields, saw 5\\nSkipping line 1792832: expected 1 fields, saw 5\\nSkipping line 1793744: expected 1 fields, saw 2\\nSkipping line 1794479: expected 1 fields, saw 5\\nSkipping line 1795949: expected 1 fields, saw 5\\nSkipping line 1796411: expected 1 fields, saw 2\\nSkipping line 1797384: expected 1 fields, saw 2\\nSkipping line 1799208: expected 1 fields, saw 3\\nSkipping line 1800683: expected 1 fields, saw 3\\nSkipping line 1801459: expected 1 fields, saw 4\\nSkipping line 1801670: expected 1 fields, saw 2\\nSkipping line 1802069: expected 1 fields, saw 3\\nSkipping line 1802159: expected 1 fields, saw 5\\nSkipping line 1803036: expected 1 fields, saw 3\\nSkipping line 1804447: expected 1 fields, saw 5\\nSkipping line 1805498: expected 1 fields, saw 2\\nSkipping line 1806293: expected 1 fields, saw 3\\nSkipping line 1806671: expected 1 fields, saw 2\\nSkipping line 1806716: expected 1 fields, saw 2\\nSkipping line 1807306: expected 1 fields, saw 3\\nSkipping line 1807508: expected 1 fields, saw 2\\nSkipping line 1808325: expected 1 fields, saw 2\\nSkipping line 1810020: expected 1 fields, saw 3\\nSkipping line 1810624: expected 1 fields, saw 4\\nSkipping line 1811306: expected 1 fields, saw 3\\nSkipping line 1812470: expected 1 fields, saw 2\\nSkipping line 1813075: expected 1 fields, saw 2\\nSkipping line 1813969: expected 1 fields, saw 5\\nSkipping line 1815787: expected 1 fields, saw 3\\nSkipping line 1816898: expected 1 fields, saw 3\\nSkipping line 1817315: expected 1 fields, saw 2\\nSkipping line 1820899: expected 1 fields, saw 3\\nSkipping line 1821857: expected 1 fields, saw 2\\nSkipping line 1822174: expected 1 fields, saw 2\\nSkipping line 1822524: expected 1 fields, saw 3\\nSkipping line 1822780: expected 1 fields, saw 5\\nSkipping line 1824307: expected 1 fields, saw 3\\nSkipping line 1824867: expected 1 fields, saw 5\\nSkipping line 1824989: expected 1 fields, saw 2\\nSkipping line 1825294: expected 1 fields, saw 3\\nSkipping line 1825430: expected 1 fields, saw 3\\nSkipping line 1826742: expected 1 fields, saw 2\\nSkipping line 1826965: expected 1 fields, saw 3\\nSkipping line 1828813: expected 1 fields, saw 2\\nSkipping line 1829758: expected 1 fields, saw 3\\nSkipping line 1830641: expected 1 fields, saw 2\\nSkipping line 1832793: expected 1 fields, saw 3\\nSkipping line 1833284: expected 1 fields, saw 2\\nSkipping line 1835479: expected 1 fields, saw 5\\nSkipping line 1837133: expected 1 fields, saw 3\\nSkipping line 1838111: expected 1 fields, saw 5\\nSkipping line 1838379: expected 1 fields, saw 2\\nSkipping line 1840454: expected 1 fields, saw 2\\nSkipping line 1841636: expected 1 fields, saw 2\\nSkipping line 1846125: expected 1 fields, saw 3\\nSkipping line 1847616: expected 1 fields, saw 2\\nSkipping line 1848534: expected 1 fields, saw 5\\nSkipping line 1849094: expected 1 fields, saw 5\\nSkipping line 1849980: expected 1 fields, saw 2\\nSkipping line 1850893: expected 1 fields, saw 2\\nSkipping line 1850895: expected 1 fields, saw 5\\nSkipping line 1851426: expected 1 fields, saw 2\\nSkipping line 1851656: expected 1 fields, saw 2\\nSkipping line 1852463: expected 1 fields, saw 3\\nSkipping line 1853378: expected 1 fields, saw 2\\nSkipping line 1853617: expected 1 fields, saw 5\\nSkipping line 1853643: expected 1 fields, saw 5\\nSkipping line 1853742: expected 1 fields, saw 5\\nSkipping line 1853778: expected 1 fields, saw 3\\nSkipping line 1854899: expected 1 fields, saw 3\\nSkipping line 1855069: expected 1 fields, saw 2\\nSkipping line 1855701: expected 1 fields, saw 4\\nSkipping line 1856842: expected 1 fields, saw 3\\nSkipping line 1857264: expected 1 fields, saw 2\\nSkipping line 1857555: expected 1 fields, saw 5\\nSkipping line 1858567: expected 1 fields, saw 3\\nSkipping line 1859632: expected 1 fields, saw 3\\nSkipping line 1860041: expected 1 fields, saw 3\\nSkipping line 1861556: expected 1 fields, saw 4\\nSkipping line 1861557: expected 1 fields, saw 4\\nSkipping line 1862713: expected 1 fields, saw 2\\nSkipping line 1863683: expected 1 fields, saw 3\\nSkipping line 1866106: expected 1 fields, saw 2\\nSkipping line 1866120: expected 1 fields, saw 2\\nSkipping line 1866121: expected 1 fields, saw 3\\nSkipping line 1866302: expected 1 fields, saw 3\\nSkipping line 1866820: expected 1 fields, saw 2\\nSkipping line 1866998: expected 1 fields, saw 5\\nSkipping line 1867358: expected 1 fields, saw 2\\nSkipping line 1867503: expected 1 fields, saw 2\\nSkipping line 1868689: expected 1 fields, saw 2\\nSkipping line 1869134: expected 1 fields, saw 3\\nSkipping line 1869568: expected 1 fields, saw 5\\nSkipping line 1869596: expected 1 fields, saw 2\\nSkipping line 1870816: expected 1 fields, saw 5\\nSkipping line 1871946: expected 1 fields, saw 2\\nSkipping line 1874074: expected 1 fields, saw 2\\nSkipping line 1874572: expected 1 fields, saw 2\\nSkipping line 1874963: expected 1 fields, saw 2\\nSkipping line 1875330: expected 1 fields, saw 3\\nSkipping line 1878293: expected 1 fields, saw 2\\nSkipping line 1878536: expected 1 fields, saw 2\\nSkipping line 1878784: expected 1 fields, saw 2\\nSkipping line 1878999: expected 1 fields, saw 2\\nSkipping line 1879612: expected 1 fields, saw 5\\nSkipping line 1881175: expected 1 fields, saw 2\\nSkipping line 1881751: expected 1 fields, saw 4\\nSkipping line 1882909: expected 1 fields, saw 2\\nSkipping line 1883335: expected 1 fields, saw 5\\nSkipping line 1884114: expected 1 fields, saw 4\\nSkipping line 1884249: expected 1 fields, saw 4\\nSkipping line 1884260: expected 1 fields, saw 3\\nSkipping line 1884981: expected 1 fields, saw 2\\nSkipping line 1885847: expected 1 fields, saw 5\\nSkipping line 1885850: expected 1 fields, saw 5\\nSkipping line 1887577: expected 1 fields, saw 3\\nSkipping line 1887937: expected 1 fields, saw 2\\nSkipping line 1888920: expected 1 fields, saw 3\\nSkipping line 1889065: expected 1 fields, saw 2\\nSkipping line 1890493: expected 1 fields, saw 3\\nSkipping line 1890837: expected 1 fields, saw 5\\nSkipping line 1892856: expected 1 fields, saw 2\\nSkipping line 1895586: expected 1 fields, saw 4\\nSkipping line 1896592: expected 1 fields, saw 2\\nSkipping line 1897444: expected 1 fields, saw 2\\nSkipping line 1899437: expected 1 fields, saw 5\\nSkipping line 1899691: expected 1 fields, saw 3\\nSkipping line 1899758: expected 1 fields, saw 2\\nSkipping line 1899868: expected 1 fields, saw 5\\nSkipping line 1900099: expected 1 fields, saw 2\\nSkipping line 1902245: expected 1 fields, saw 5\\nSkipping line 1902404: expected 1 fields, saw 2\\nSkipping line 1902549: expected 1 fields, saw 3\\nSkipping line 1903160: expected 1 fields, saw 3\\nSkipping line 1903164: expected 1 fields, saw 2\\nSkipping line 1903611: expected 1 fields, saw 2\\nSkipping line 1904051: expected 1 fields, saw 2\\nSkipping line 1904587: expected 1 fields, saw 2\\nSkipping line 1905229: expected 1 fields, saw 2\\nSkipping line 1905786: expected 1 fields, saw 3\\nSkipping line 1907084: expected 1 fields, saw 3\\nSkipping line 1909705: expected 1 fields, saw 3\\nSkipping line 1910673: expected 1 fields, saw 2\\nSkipping line 1911161: expected 1 fields, saw 3\\nSkipping line 1911413: expected 1 fields, saw 2\\nSkipping line 1911625: expected 1 fields, saw 2\\nSkipping line 1912073: expected 1 fields, saw 4\\nSkipping line 1914506: expected 1 fields, saw 2\\nSkipping line 1915367: expected 1 fields, saw 2\\nSkipping line 1917044: expected 1 fields, saw 5\\nSkipping line 1918515: expected 1 fields, saw 5\\nSkipping line 1918598: expected 1 fields, saw 3\\nSkipping line 1919040: expected 1 fields, saw 3\\nSkipping line 1919131: expected 1 fields, saw 5\\nSkipping line 1919307: expected 1 fields, saw 5\\nSkipping line 1920010: expected 1 fields, saw 2\\nSkipping line 1920347: expected 1 fields, saw 2\\nSkipping line 1920511: expected 1 fields, saw 3\\nSkipping line 1922348: expected 1 fields, saw 3\\nSkipping line 1922603: expected 1 fields, saw 4\\nSkipping line 1922643: expected 1 fields, saw 7\\nSkipping line 1922865: expected 1 fields, saw 3\\nSkipping line 1924572: expected 1 fields, saw 2\\nSkipping line 1926799: expected 1 fields, saw 2\\nSkipping line 1930089: expected 1 fields, saw 2\\nSkipping line 1931692: expected 1 fields, saw 2\\nSkipping line 1932821: expected 1 fields, saw 2\\nSkipping line 1933003: expected 1 fields, saw 5\\nSkipping line 1933611: expected 1 fields, saw 2\\nSkipping line 1933743: expected 1 fields, saw 3\\nSkipping line 1933968: expected 1 fields, saw 5\\nSkipping line 1936351: expected 1 fields, saw 5\\nSkipping line 1937271: expected 1 fields, saw 2\\nSkipping line 1939464: expected 1 fields, saw 3\\nSkipping line 1942253: expected 1 fields, saw 3\\nSkipping line 1942390: expected 1 fields, saw 2\\nSkipping line 1943714: expected 1 fields, saw 2\\nSkipping line 1944053: expected 1 fields, saw 2\\nSkipping line 1944304: expected 1 fields, saw 2\\nSkipping line 1945830: expected 1 fields, saw 2\\nSkipping line 1946149: expected 1 fields, saw 2\\nSkipping line 1946479: expected 1 fields, saw 2\\nSkipping line 1946833: expected 1 fields, saw 2\\nSkipping line 1947198: expected 1 fields, saw 3\\nSkipping line 1949435: expected 1 fields, saw 3\\nSkipping line 1950398: expected 1 fields, saw 2\\nSkipping line 1951095: expected 1 fields, saw 3\\nSkipping line 1951645: expected 1 fields, saw 2\\nSkipping line 1952778: expected 1 fields, saw 2\\nSkipping line 1953207: expected 1 fields, saw 3\\nSkipping line 1953822: expected 1 fields, saw 5\\nSkipping line 1954014: expected 1 fields, saw 3\\nSkipping line 1955622: expected 1 fields, saw 3\\nSkipping line 1957481: expected 1 fields, saw 2\\nSkipping line 1958348: expected 1 fields, saw 2\\nSkipping line 1959140: expected 1 fields, saw 3\\nSkipping line 1959379: expected 1 fields, saw 3\\nSkipping line 1961495: expected 1 fields, saw 2\\nSkipping line 1962286: expected 1 fields, saw 2\\nSkipping line 1962507: expected 1 fields, saw 2\\nSkipping line 1963173: expected 1 fields, saw 2\\nSkipping line 1964574: expected 1 fields, saw 2\\nSkipping line 1964596: expected 1 fields, saw 2\\nSkipping line 1964734: expected 1 fields, saw 3\\nSkipping line 1965869: expected 1 fields, saw 2\\nSkipping line 1966941: expected 1 fields, saw 3\\nSkipping line 1967271: expected 1 fields, saw 3\\nSkipping line 1969576: expected 1 fields, saw 2\\nSkipping line 1969938: expected 1 fields, saw 2\\nSkipping line 1970618: expected 1 fields, saw 2\\nSkipping line 1971265: expected 1 fields, saw 7\\nSkipping line 1971506: expected 1 fields, saw 5\\nSkipping line 1971987: expected 1 fields, saw 2\\nSkipping line 1973543: expected 1 fields, saw 3\\nSkipping line 1973830: expected 1 fields, saw 2\\nSkipping line 1974256: expected 1 fields, saw 3\\nSkipping line 1976838: expected 1 fields, saw 3\\nSkipping line 1976866: expected 1 fields, saw 5\\nSkipping line 1976919: expected 1 fields, saw 2\\nSkipping line 1978055: expected 1 fields, saw 2\\nSkipping line 1978726: expected 1 fields, saw 3\\nSkipping line 1979331: expected 1 fields, saw 2\\nSkipping line 1985805: expected 1 fields, saw 2\\nSkipping line 1986229: expected 1 fields, saw 2\\nSkipping line 1986288: expected 1 fields, saw 3\\nSkipping line 1987820: expected 1 fields, saw 3\\nSkipping line 1988091: expected 1 fields, saw 13\\nSkipping line 1988266: expected 1 fields, saw 7\\nSkipping line 1988569: expected 1 fields, saw 3\\nSkipping line 1988840: expected 1 fields, saw 2\\nSkipping line 1988877: expected 1 fields, saw 2\\nSkipping line 1988883: expected 1 fields, saw 2\\nSkipping line 1989080: expected 1 fields, saw 5\\nSkipping line 1989204: expected 1 fields, saw 4\\nSkipping line 1993431: expected 1 fields, saw 3\\nSkipping line 1993983: expected 1 fields, saw 3\\nSkipping line 1994459: expected 1 fields, saw 5\\nSkipping line 1995116: expected 1 fields, saw 3\\nSkipping line 1997776: expected 1 fields, saw 2\\nSkipping line 1997976: expected 1 fields, saw 3\\nSkipping line 1998011: expected 1 fields, saw 3\\nSkipping line 1998816: expected 1 fields, saw 2\\nSkipping line 1999646: expected 1 fields, saw 2\\nSkipping line 2001155: expected 1 fields, saw 5\\nSkipping line 2001597: expected 1 fields, saw 2\\nSkipping line 2003711: expected 1 fields, saw 2\\nSkipping line 2003714: expected 1 fields, saw 3\\nSkipping line 2005131: expected 1 fields, saw 3\\nSkipping line 2005184: expected 1 fields, saw 2\\nSkipping line 2005811: expected 1 fields, saw 11\\nSkipping line 2005995: expected 1 fields, saw 4\\nSkipping line 2007047: expected 1 fields, saw 5\\nSkipping line 2007091: expected 1 fields, saw 5\\nSkipping line 2007130: expected 1 fields, saw 5\\nSkipping line 2007355: expected 1 fields, saw 3\\nSkipping line 2008121: expected 1 fields, saw 3\\nSkipping line 2008697: expected 1 fields, saw 3\\nSkipping line 2010347: expected 1 fields, saw 2\\nSkipping line 2013493: expected 1 fields, saw 3\\nSkipping line 2015436: expected 1 fields, saw 2\\nSkipping line 2016695: expected 1 fields, saw 2\\nSkipping line 2018636: expected 1 fields, saw 2\\nSkipping line 2018672: expected 1 fields, saw 3\\nSkipping line 2019745: expected 1 fields, saw 4\\nSkipping line 2019874: expected 1 fields, saw 2\\nSkipping line 2022311: expected 1 fields, saw 2\\nSkipping line 2022600: expected 1 fields, saw 2\\nSkipping line 2024137: expected 1 fields, saw 2\\nSkipping line 2024203: expected 1 fields, saw 3\\nSkipping line 2024751: expected 1 fields, saw 5\\nSkipping line 2025480: expected 1 fields, saw 3\\nSkipping line 2025717: expected 1 fields, saw 5\\nSkipping line 2025915: expected 1 fields, saw 2\\nSkipping line 2026021: expected 1 fields, saw 2\\nSkipping line 2026668: expected 1 fields, saw 3\\nSkipping line 2026886: expected 1 fields, saw 5\\nSkipping line 2030011: expected 1 fields, saw 2\\nSkipping line 2030153: expected 1 fields, saw 3\\nSkipping line 2030367: expected 1 fields, saw 2\\nSkipping line 2030644: expected 1 fields, saw 2\\nSkipping line 2032001: expected 1 fields, saw 2\\nSkipping line 2032330: expected 1 fields, saw 5\\nSkipping line 2033664: expected 1 fields, saw 2\\nSkipping line 2035234: expected 1 fields, saw 2\\nSkipping line 2037076: expected 1 fields, saw 2\\nSkipping line 2038415: expected 1 fields, saw 7\\nSkipping line 2038964: expected 1 fields, saw 3\\nSkipping line 2043294: expected 1 fields, saw 2\\nSkipping line 2043711: expected 1 fields, saw 2\\nSkipping line 2043839: expected 1 fields, saw 5\\nSkipping line 2044545: expected 1 fields, saw 5\\nSkipping line 2044685: expected 1 fields, saw 5\\nSkipping line 2045421: expected 1 fields, saw 2\\nSkipping line 2045506: expected 1 fields, saw 2\\nSkipping line 2046079: expected 1 fields, saw 2\\nSkipping line 2047486: expected 1 fields, saw 3\\nSkipping line 2049023: expected 1 fields, saw 3\\nSkipping line 2049340: expected 1 fields, saw 2\\nSkipping line 2051286: expected 1 fields, saw 3\\nSkipping line 2052184: expected 1 fields, saw 3\\nSkipping line 2054228: expected 1 fields, saw 2\\nSkipping line 2055729: expected 1 fields, saw 2\\nSkipping line 2056844: expected 1 fields, saw 3\\nSkipping line 2056915: expected 1 fields, saw 3\\nSkipping line 2056916: expected 1 fields, saw 4\\nSkipping line 2058740: expected 1 fields, saw 2\\nSkipping line 2061183: expected 1 fields, saw 3\\nSkipping line 2062038: expected 1 fields, saw 7\\nSkipping line 2062870: expected 1 fields, saw 2\\nSkipping line 2063801: expected 1 fields, saw 3\\nSkipping line 2065506: expected 1 fields, saw 2\\nSkipping line 2066768: expected 1 fields, saw 2\\nSkipping line 2067482: expected 1 fields, saw 2\\nSkipping line 2067603: expected 1 fields, saw 3\\nSkipping line 2068363: expected 1 fields, saw 2\\nSkipping line 2068776: expected 1 fields, saw 3\\nSkipping line 2074032: expected 1 fields, saw 2\\nSkipping line 2074976: expected 1 fields, saw 2\\nSkipping line 2080561: expected 1 fields, saw 5\\nSkipping line 2081046: expected 1 fields, saw 2\\nSkipping line 2081794: expected 1 fields, saw 4\\nSkipping line 2083339: expected 1 fields, saw 2\\nSkipping line 2083460: expected 1 fields, saw 5\\nSkipping line 2083763: expected 1 fields, saw 5\\nSkipping line 2083977: expected 1 fields, saw 2\\nSkipping line 2086581: expected 1 fields, saw 2\\nSkipping line 2087363: expected 1 fields, saw 3\\nSkipping line 2089790: expected 1 fields, saw 3\\nSkipping line 2091197: expected 1 fields, saw 2\\nSkipping line 2092829: expected 1 fields, saw 2\\nSkipping line 2095137: expected 1 fields, saw 3\\nSkipping line 2097293: expected 1 fields, saw 2\\nSkipping line 2098818: expected 1 fields, saw 3\\n'\n"
     ]
    },
    {
     "name": "stderr",
     "output_type": "stream",
     "text": [
      "b'Skipping line 2099039: expected 1 fields, saw 2\\nSkipping line 2099132: expected 1 fields, saw 3\\nSkipping line 2101881: expected 1 fields, saw 2\\nSkipping line 2102040: expected 1 fields, saw 3\\nSkipping line 2102277: expected 1 fields, saw 2\\nSkipping line 2102511: expected 1 fields, saw 3\\nSkipping line 2103013: expected 1 fields, saw 2\\nSkipping line 2103054: expected 1 fields, saw 2\\nSkipping line 2103494: expected 1 fields, saw 5\\nSkipping line 2103638: expected 1 fields, saw 5\\nSkipping line 2103804: expected 1 fields, saw 2\\nSkipping line 2105513: expected 1 fields, saw 5\\nSkipping line 2106362: expected 1 fields, saw 3\\nSkipping line 2106444: expected 1 fields, saw 5\\nSkipping line 2106820: expected 1 fields, saw 2\\nSkipping line 2111710: expected 1 fields, saw 3\\nSkipping line 2111728: expected 1 fields, saw 2\\nSkipping line 2113437: expected 1 fields, saw 2\\nSkipping line 2113734: expected 1 fields, saw 2\\nSkipping line 2115111: expected 1 fields, saw 2\\nSkipping line 2116329: expected 1 fields, saw 5\\nSkipping line 2116560: expected 1 fields, saw 2\\nSkipping line 2121607: expected 1 fields, saw 3\\nSkipping line 2122268: expected 1 fields, saw 2\\nSkipping line 2122337: expected 1 fields, saw 3\\nSkipping line 2122833: expected 1 fields, saw 4\\nSkipping line 2122952: expected 1 fields, saw 3\\nSkipping line 2123262: expected 1 fields, saw 4\\nSkipping line 2123334: expected 1 fields, saw 5\\nSkipping line 2123469: expected 1 fields, saw 5\\nSkipping line 2123602: expected 1 fields, saw 5\\nSkipping line 2123972: expected 1 fields, saw 3\\nSkipping line 2124398: expected 1 fields, saw 3\\nSkipping line 2126476: expected 1 fields, saw 5\\nSkipping line 2127134: expected 1 fields, saw 4\\nSkipping line 2129952: expected 1 fields, saw 3\\nSkipping line 2135940: expected 1 fields, saw 5\\nSkipping line 2141333: expected 1 fields, saw 4\\nSkipping line 2142678: expected 1 fields, saw 3\\nSkipping line 2143565: expected 1 fields, saw 5\\nSkipping line 2143628: expected 1 fields, saw 5\\nSkipping line 2143684: expected 1 fields, saw 5\\nSkipping line 2143737: expected 1 fields, saw 5\\nSkipping line 2144997: expected 1 fields, saw 5\\nSkipping line 2145157: expected 1 fields, saw 4\\nSkipping line 2148360: expected 1 fields, saw 3\\nSkipping line 2148663: expected 1 fields, saw 2\\nSkipping line 2149823: expected 1 fields, saw 2\\nSkipping line 2150498: expected 1 fields, saw 3\\nSkipping line 2152920: expected 1 fields, saw 2\\nSkipping line 2153028: expected 1 fields, saw 2\\nSkipping line 2153285: expected 1 fields, saw 2\\nSkipping line 2154617: expected 1 fields, saw 2\\nSkipping line 2157900: expected 1 fields, saw 3\\nSkipping line 2158191: expected 1 fields, saw 3\\nSkipping line 2158579: expected 1 fields, saw 2\\nSkipping line 2158806: expected 1 fields, saw 2\\nSkipping line 2158966: expected 1 fields, saw 4\\nSkipping line 2159170: expected 1 fields, saw 2\\nSkipping line 2159320: expected 1 fields, saw 5\\nSkipping line 2159880: expected 1 fields, saw 5\\nSkipping line 2161564: expected 1 fields, saw 3\\nSkipping line 2162490: expected 1 fields, saw 4\\nSkipping line 2162960: expected 1 fields, saw 5\\nSkipping line 2162985: expected 1 fields, saw 2\\nSkipping line 2163064: expected 1 fields, saw 2\\nSkipping line 2164425: expected 1 fields, saw 5\\nSkipping line 2164588: expected 1 fields, saw 5\\nSkipping line 2167574: expected 1 fields, saw 3\\nSkipping line 2168376: expected 1 fields, saw 3\\n'\n"
     ]
    }
   ],
   "source": [
    "#load abstractness ratting \n",
    "\n",
    "csv = pd.read_csv(\"AC_ratings_google3m_koeper_SiW.csv\",error_bad_lines=False)\n",
    "csv = pd.DataFrame(csv)\n",
    "dict = {}\n",
    "\n",
    "for index,row in csv.iterrows():\n",
    "    s = (row['WORD\\tRATING']).split('\\t')\n",
    "    dict[s[0]] = s[1]\n",
    "    #print(dict[s[0]])"
   ]
  },
  {
   "cell_type": "markdown",
   "metadata": {},
   "source": [
    "## Train Dataset "
   ]
  },
  {
   "cell_type": "code",
   "execution_count": 147,
   "metadata": {},
   "outputs": [
    {
     "name": "stdout",
     "output_type": "stream",
     "text": [
      "(1768, 5)\n",
      "Accuracy is:  0.684389140271\n"
     ]
    },
    {
     "name": "stderr",
     "output_type": "stream",
     "text": [
      "C:\\DELL\\Anaconda\\lib\\site-packages\\ipykernel_launcher.py:34: DeprecationWarning: Call to deprecated `similarity` (Method will be removed in 4.0.0, use self.wv.similarity() instead).\n"
     ]
    }
   ],
   "source": [
    "MET_AN_EN = pd.read_table('training_adj_noun_met_en.txt', delim_whitespace=True, names=('adj', 'noun'))\n",
    "MET_AN_EN['class'] = 1\n",
    "LIT_AN_EN = pd.read_table('training_adj_noun_nonmet_en.txt', delim_whitespace=True, names=('adj', 'noun'))\n",
    "LIT_AN_EN['class'] = 0\n",
    "\n",
    "df = pd.concat([LIT_AN_EN,MET_AN_EN])\n",
    "df = pd.DataFrame(df)\n",
    "\n",
    "data=[]\n",
    "for j in zip(df.adj,df.noun):\n",
    "    temp = [j[0],j[1]]\n",
    "    data.append(temp)\n",
    "model = gensim.models.Word2Vec(data, min_count = 1,size = 200, window = 5) \n",
    "#model = KeyedVectors.load_word2vec_format('wiki.en.vec')\n",
    "\n",
    "an_vectorized = []\n",
    "for j in zip(df.adj,df.noun):\n",
    "    a = j[0]\n",
    "    n = j[1]\n",
    "    l = []\n",
    "    if '-' in a:\n",
    "        s = a.split('-')\n",
    "        ar_Adj = (float(dict[s[0]]) + float(dict[s[1]]))/2\n",
    "    else: \n",
    "        ar_Adj = float(dict[a])\n",
    "    if '-' in n:\n",
    "        s = n.split('-')\n",
    "        ar_Noun = (float(dict[s[0]]) + float(dict[s[1]]))/2\n",
    "    else:\n",
    "        ar_Noun = float(dict[n])\n",
    "    l.append(( ar_Adj)/10)\n",
    "    l.append(( ar_Noun)/10)\n",
    "    l.append((np.sign(ar_Adj - ar_Noun)))\n",
    "    l.append(model.similarity(j[0],j[1]))\n",
    "    l.append(nltk.edit_distance(j[0],j[1])/10)\n",
    "\n",
    "    #an_vectorized = np.asarray([ [(ar_Adj)/10],[(ar_Noun)/10], [np.sign(ar_Adj - ar_Noun)]])\n",
    "    an_vectorized.append(list(l))\n",
    "    #an_vectorized.append(( ar_Adj + ar_Noun+ np.sign(ar_Adj - ar_Noun))/10)\n",
    "an_vectorized = np.asarray(an_vectorized)    \n",
    "#an_vectorized = pd.DataFrame(an_vectorized)\n",
    "kmeans_clustering = KMeans( n_clusters = 2, random_state=43)\n",
    "idx = kmeans_clustering.fit_predict( an_vectorized )\n",
    "print(an_vectorized.shape)\n",
    "print('Accuracy is: ',accuracy_score(idx,np.asarray(df['class'])))"
   ]
  },
  {
   "cell_type": "markdown",
   "metadata": {},
   "source": [
    "## Test Dataset "
   ]
  },
  {
   "cell_type": "code",
   "execution_count": 148,
   "metadata": {},
   "outputs": [
    {
     "name": "stdout",
     "output_type": "stream",
     "text": [
      "Accuracy is:  0.785\n"
     ]
    },
    {
     "name": "stderr",
     "output_type": "stream",
     "text": [
      "C:\\DELL\\Anaconda\\lib\\site-packages\\ipykernel_launcher.py:34: DeprecationWarning: Call to deprecated `similarity` (Method will be removed in 4.0.0, use self.wv.similarity() instead).\n"
     ]
    }
   ],
   "source": [
    "fields = ['adj', 'noun']\n",
    "MET_AN_EN_TEST=pd.read_excel('Datasets_ACL2014.xlsx',sheetname='MET_AN_EN', usecols=fields)\n",
    "MET_AN_EN_TEST['class'] = 1\n",
    "LIT_AN_EN_TEST=pd.read_excel('Datasets_ACL2014.xlsx',sheetname='LIT_AN_EN', usecols=fields)\n",
    "LIT_AN_EN_TEST['class'] = 0\n",
    "\n",
    "df = pd.concat([LIT_AN_EN_TEST,MET_AN_EN_TEST])\n",
    "df = pd.DataFrame(df)\n",
    "data=[]\n",
    "for j in zip(df.adj,df.noun):\n",
    "    temp = [j[0],j[1]]\n",
    "    data.append(temp)\n",
    "\n",
    "model = gensim.models.Word2Vec(data, min_count = 1,size = 200, window = 5) \n",
    "\n",
    "an_vectorized = []\n",
    "for j in zip(df.adj,df.noun):\n",
    "    a = j[0]\n",
    "    n = j[1]\n",
    "    l = []\n",
    "    if '-' in a:\n",
    "        s = a.split('-')\n",
    "        ar_Adj = (float(dict[s[0]]) + float(dict[s[1]]))/2\n",
    "    else: \n",
    "        ar_Adj = float(dict[a])\n",
    "    if '-' in n:\n",
    "        s = n.split('-')\n",
    "        ar_Noun = (float(dict[s[0]]) + float(dict[s[1]]))/2\n",
    "    else:\n",
    "        ar_Noun = float(dict[n])\n",
    "    l.append(( ar_Adj)/10)\n",
    "    l.append(( ar_Noun)/10)\n",
    "    l.append((np.sign(ar_Adj - ar_Noun)))\n",
    "    l.append(model.similarity(j[0],j[1]))\n",
    "    l.append(nltk.edit_distance(j[0],j[1])/10)\n",
    "\n",
    "    #an_vectorized = np.asarray([ [(ar_Adj)/10],[(ar_Noun)/10], [np.sign(ar_Adj - ar_Noun)]])\n",
    "    an_vectorized.append(list(l))\n",
    "    #an_vectorized.append(( ar_Adj + ar_Noun)/10)\n",
    "an_vectorized = np.asarray(an_vectorized)    \n",
    "#an_vectorized = pd.DataFrame(an_vectorized)\n",
    "kmeans_clustering = KMeans( n_clusters = 2, random_state=43 )\n",
    "idx = kmeans_clustering.fit_predict( an_vectorized )\n",
    "print('Accuracy is: ',accuracy_score(idx,np.asarray(df['class'])))"
   ]
  },
  {
   "cell_type": "code",
   "execution_count": 38,
   "metadata": {
    "collapsed": true
   },
   "outputs": [],
   "source": [
    "## Merged Data"
   ]
  },
  {
   "cell_type": "code",
   "execution_count": 149,
   "metadata": {},
   "outputs": [
    {
     "name": "stdout",
     "output_type": "stream",
     "text": [
      "Accuracy is:  0.694613821138\n"
     ]
    }
   ],
   "source": [
    "fields = ['adj', 'noun']\n",
    "MET_AN_EN_TEST=pd.read_excel('Datasets_ACL2014.xlsx',sheetname='MET_AN_EN', usecols=fields)\n",
    "MET_AN_EN_TEST['class'] = 1\n",
    "LIT_AN_EN_TEST=pd.read_excel('Datasets_ACL2014.xlsx',sheetname='LIT_AN_EN', usecols=fields)\n",
    "LIT_AN_EN_TEST['class'] = 0\n",
    "MET_AN_EN = pd.read_table('training_adj_noun_met_en.txt', delim_whitespace=True, names=('adj', 'noun'))\n",
    "MET_AN_EN['class'] = 1\n",
    "LIT_AN_EN = pd.read_table('training_adj_noun_nonmet_en.txt', delim_whitespace=True, names=('adj', 'noun'))\n",
    "LIT_AN_EN['class'] = 0\n",
    "\n",
    "df = pd.concat([LIT_AN_EN_TEST,MET_AN_EN_TEST,LIT_AN_EN,MET_AN_EN])\n",
    "df = pd.DataFrame(df)\n",
    "\n",
    "an_vectorized = []\n",
    "for j in zip(df.adj,df.noun):\n",
    "    a = j[0]\n",
    "    n = j[1]\n",
    "    l = []\n",
    "    if '-' in a:\n",
    "        s = a.split('-')\n",
    "        ar_Adj = (float(dict[s[0]]) + float(dict[s[1]]))/2\n",
    "    else: \n",
    "        ar_Adj = float(dict[a])\n",
    "    if '-' in n:\n",
    "        s = n.split('-')\n",
    "        ar_Noun = (float(dict[s[0]]) + float(dict[s[1]]))/2\n",
    "    else:\n",
    "        ar_Noun = float(dict[n])\n",
    "    #an_vectorized.append(( ar_Adj + ar_Noun)/10)\n",
    "    l.append(( ar_Adj)/10)\n",
    "    l.append(( ar_Noun)/10)\n",
    "    l.append((np.sign(ar_Adj - ar_Noun)))\n",
    "    l.append(nltk.edit_distance(j[0],j[1])/10)\n",
    "\n",
    "    #an_vectorized = np.asarray([ [(ar_Adj)/10],[(ar_Noun)/10], [np.sign(ar_Adj - ar_Noun)]])\n",
    "    an_vectorized.append(list(l))\n",
    "    #an_vectorized.append(( ar_Adj + ar_Noun)/10)\n",
    "an_vectorized = np.asarray(an_vectorized)    \n",
    "#an_vectorized = pd.DataFrame(an_vectorized)\n",
    "kmeans_clustering = KMeans( n_clusters = 2, random_state=43 )\n",
    "idx = kmeans_clustering.fit_predict( an_vectorized )\n",
    "print('Accuracy is: ',accuracy_score(idx,np.asarray(df['class'])))"
   ]
  },
  {
   "cell_type": "code",
   "execution_count": null,
   "metadata": {
    "collapsed": true
   },
   "outputs": [],
   "source": []
  }
 ],
 "metadata": {
  "kernelspec": {
   "display_name": "Python 3",
   "language": "python",
   "name": "python3"
  },
  "language_info": {
   "codemirror_mode": {
    "name": "ipython",
    "version": 3
   },
   "file_extension": ".py",
   "mimetype": "text/x-python",
   "name": "python",
   "nbconvert_exporter": "python",
   "pygments_lexer": "ipython3",
   "version": "3.6.3"
  }
 },
 "nbformat": 4,
 "nbformat_minor": 1
}
